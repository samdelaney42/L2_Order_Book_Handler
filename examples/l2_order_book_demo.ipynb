{
 "cells": [
  {
   "cell_type": "code",
   "execution_count": 1,
   "metadata": {},
   "outputs": [
    {
     "name": "stdout",
     "output_type": "stream",
     "text": [
      "91997\n"
     ]
    },
    {
     "data": {
      "text/html": [
       "<div>\n",
       "<style scoped>\n",
       "    .dataframe tbody tr th:only-of-type {\n",
       "        vertical-align: middle;\n",
       "    }\n",
       "\n",
       "    .dataframe tbody tr th {\n",
       "        vertical-align: top;\n",
       "    }\n",
       "\n",
       "    .dataframe thead th {\n",
       "        text-align: right;\n",
       "    }\n",
       "</style>\n",
       "<table border=\"1\" class=\"dataframe\">\n",
       "  <thead>\n",
       "    <tr style=\"text-align: right;\">\n",
       "      <th></th>\n",
       "      <th>time</th>\n",
       "      <th>type</th>\n",
       "      <th>id</th>\n",
       "      <th>shares</th>\n",
       "      <th>price</th>\n",
       "      <th>direction</th>\n",
       "    </tr>\n",
       "  </thead>\n",
       "  <tbody>\n",
       "    <tr>\n",
       "      <th>0</th>\n",
       "      <td>34200.004241</td>\n",
       "      <td>1</td>\n",
       "      <td>16113575</td>\n",
       "      <td>18</td>\n",
       "      <td>585.33</td>\n",
       "      <td>1</td>\n",
       "    </tr>\n",
       "    <tr>\n",
       "      <th>1</th>\n",
       "      <td>34200.004261</td>\n",
       "      <td>1</td>\n",
       "      <td>16113584</td>\n",
       "      <td>18</td>\n",
       "      <td>585.32</td>\n",
       "      <td>1</td>\n",
       "    </tr>\n",
       "    <tr>\n",
       "      <th>2</th>\n",
       "      <td>34200.004447</td>\n",
       "      <td>1</td>\n",
       "      <td>16113594</td>\n",
       "      <td>18</td>\n",
       "      <td>585.31</td>\n",
       "      <td>1</td>\n",
       "    </tr>\n",
       "    <tr>\n",
       "      <th>3</th>\n",
       "      <td>34200.025552</td>\n",
       "      <td>1</td>\n",
       "      <td>16120456</td>\n",
       "      <td>18</td>\n",
       "      <td>585.91</td>\n",
       "      <td>-1</td>\n",
       "    </tr>\n",
       "    <tr>\n",
       "      <th>4</th>\n",
       "      <td>34200.025580</td>\n",
       "      <td>1</td>\n",
       "      <td>16120480</td>\n",
       "      <td>18</td>\n",
       "      <td>585.92</td>\n",
       "      <td>-1</td>\n",
       "    </tr>\n",
       "  </tbody>\n",
       "</table>\n",
       "</div>"
      ],
      "text/plain": [
       "           time  type        id  shares   price  direction\n",
       "0  34200.004241     1  16113575      18  585.33          1\n",
       "1  34200.004261     1  16113584      18  585.32          1\n",
       "2  34200.004447     1  16113594      18  585.31          1\n",
       "3  34200.025552     1  16120456      18  585.91         -1\n",
       "4  34200.025580     1  16120480      18  585.92         -1"
      ]
     },
     "execution_count": 1,
     "metadata": {},
     "output_type": "execute_result"
    }
   ],
   "source": [
    "import sys\n",
    "sys.path.append('../src')\n",
    "from order_book import Book\n",
    "from order_book import Format\n",
    "from event import Event\n",
    "from datetime import datetime\n",
    "import pandas as pd\n",
    "import numpy as np\n",
    "\n",
    "# set up logger to track events\n",
    "import log\n",
    "logger = log.get_logger('Main')\n",
    "logger.info('testing logger from module Main')\n",
    "\n",
    "# import lobster message file\n",
    "cols = ['time', 'type', 'id', 'shares', 'price', 'direction']\n",
    "data = pd.read_csv(\"../data/lobster/AAPL_2012-06-21_34200000_37800000_message_50.csv\", names=cols)\n",
    "# re-scale the price col\n",
    "data.price = data.price/10000\n",
    "# make sure data is during market hours\n",
    "data = data[data['time']>= 9.5*60*60]\n",
    "data = data[data['time']<= 16*60*60]\n",
    "print(len(data))\n",
    "data.head()"
   ]
  },
  {
   "cell_type": "code",
   "execution_count": 2,
   "metadata": {},
   "outputs": [],
   "source": [
    "# create order book object\n",
    "book = Book()\n",
    "events = []\n",
    "\n",
    "# iterate through event messages and read into book - test using first 20k events\n",
    "for i in range(20000):\n",
    "    event = Event(data.loc[i])\n",
    "    book.handleEvent(event, i)\n",
    "    events.append(event)"
   ]
  },
  {
   "cell_type": "code",
   "execution_count": 3,
   "metadata": {},
   "outputs": [],
   "source": [
    "# pull all the visible executions into a trades data frame\n",
    "# split them into buys and sells based on direction\n",
    "trades = pd.DataFrame(book.trades, columns=['Time', 'Price', 'Shares', 'Direction'])\n",
    "trades = trades.set_index(['Time'])\n",
    "sells = trades[trades['Direction']==-1]\n",
    "buys = trades[trades['Direction']==1]"
   ]
  },
  {
   "cell_type": "code",
   "execution_count": 4,
   "metadata": {},
   "outputs": [],
   "source": [
    "# pull all the hidden executions into a trades data frame\n",
    "# split them into buys and sells based on direction\n",
    "hidden_trades = pd.DataFrame(book.hidden_trades, columns=['Time', 'Price', 'Shares', 'Direction'])\n",
    "hidden_trades = hidden_trades.set_index(['Time'])\n",
    "hidden_sells = hidden_trades[hidden_trades['Direction']==-1]\n",
    "hidden_buys = hidden_trades[hidden_trades['Direction']==1]"
   ]
  },
  {
   "cell_type": "code",
   "execution_count": 5,
   "metadata": {},
   "outputs": [],
   "source": [
    "# get the book snapshots list and format it to match the LOBSTER output\n",
    "# We split the bid and ask side of the book to make it easier to plot below\n",
    "# start from the 10th row to remove some empty levels\n",
    "book_formatted = Format(book.book_snapshot, 10).formatBook()\n",
    "bids, asks = book_formatted.splitBidsAsks()"
   ]
  },
  {
   "cell_type": "code",
   "execution_count": 6,
   "metadata": {},
   "outputs": [],
   "source": [
    "mid = (asks['Ask_1']+bids['Bid_1'])/2\n",
    "mid = pd.DataFrame(mid, columns=['Price'])"
   ]
  },
  {
   "cell_type": "code",
   "execution_count": 7,
   "metadata": {},
   "outputs": [],
   "source": [
    "import plotly.graph_objects as go\n",
    "import plotly.io as pio\n",
    "# set up all line traces for different features of our data set\n",
    "\n",
    "# Scatter for midpoint price\n",
    "mid_trace = go.Scatter(x=mid.index, y=mid.Price, mode='lines',\n",
    "                       line=dict(color='black'),\n",
    "                       name='Mid')\n",
    "\n",
    "# Scatter plots for sells and buys\n",
    "sell_trace = go.Scatter(x=sells.index, y=sells.Price, mode='markers',\n",
    "                        marker=dict(color='rgba(226,76,79,255)', size=np.log(sells.Shares)*5),\n",
    "                        name='Sell',\n",
    "                        text = 'Price:  ' + sells['Price'].astype(str) + '<br>' + 'Volume: ' + sells['Shares'].astype(str))\n",
    "buy_trace = go.Scatter(x=buys.index, y=buys.Price, mode='markers',\n",
    "                       marker=dict(color='rgba(48,194,150,255)', size=np.log(buys.Shares)*5),\n",
    "                       name='Buy',\n",
    "                       text = 'Price: ' + buys['Price'].astype(str) + '<br>' + 'Volume: ' + buys['Shares'].astype(str))\n",
    "\n",
    "# Scatter plosts for hidden sells and buys\n",
    "hidden_sell_trace = go.Scatter(x=hidden_sells.index, y=hidden_sells.Price, mode='markers',\n",
    "                        marker=dict(symbol='square', color='Yellow', size=np.log(sells.Shares)*2, opacity=1, line=dict( color='Black',width=1)),\n",
    "                        name='Hidden Sell',\n",
    "                        text = 'Price:  ' + hidden_sells['Price'].astype(str) + '<br>' + 'Volume: ' + hidden_sells['Shares'].astype(str))\n",
    "hidden_buy_trace = go.Scatter(x=hidden_buys.index, y=hidden_buys.Price, mode='markers',\n",
    "                       marker=dict(symbol='square', color='Yellow', size=np.log(hidden_buys.Shares)*2, opacity=1, line=dict( color='Black',width=1)),\n",
    "                       name='Hidden Buy',\n",
    "                       text = 'Price: ' + hidden_buys['Price'].astype(str) + '<br>' + 'Volume: ' + hidden_buys['Shares'].astype(str))\n",
    "\n",
    "# Line plot for trades\n",
    "trade_trace = go.Scatter(x=trades.index, y=trades.Price, mode='lines',\n",
    "                         line=dict(color='blue'),\n",
    "                         name='Trades')\n",
    "\n",
    "# Line plots for asks and bids in the book\n",
    "ask_line_trace = go.Scatter(x=asks.index, y=asks.Ask_1, mode='lines',\n",
    "                            line=dict(color='red'),\n",
    "                            name='Best Ask Line',\n",
    "                            text = 'Price:  ' + asks['Ask_1'].astype(str) + '<br>' + 'Volume: ' + asks['Ask_1_Vol'].astype(str))\n",
    "\n",
    "bid_line_trace = go.Scatter(x=bids.index, y=bids.Bid_1, mode='lines',\n",
    "                            line=dict(color='green'),\n",
    "                            name='Best Bid Line',\n",
    "                            text = 'Price:  ' + bids['Bid_1'].astype(str) + '<br>' + 'Volume: ' + bids['Bid_1_Vol'].astype(str))\n",
    "\n",
    "ask_2_line_trace = go.Scatter(x=asks.index, y=asks.Ask_2, mode='lines',\n",
    "                            line=dict(color='Purple'),\n",
    "                            name='2 Ask Line',\n",
    "                            text = 'Price:  ' + asks['Ask_2'].astype(str) + '<br>' + 'Volume: ' + asks['Ask_2_Vol'].astype(str))\n",
    "\n",
    "bid_2_line_trace = go.Scatter(x=bids.index, y=bids.Bid_2, mode='lines',\n",
    "                            line=dict(color='Purple'),\n",
    "                            name='2 Bid Line',\n",
    "                            text = 'Price:  ' + bids['Bid_2'].astype(str) + '<br>' + 'Volume: ' + bids['Bid_2_Vol'].astype(str))\n",
    "\n",
    "ask_3_line_trace = go.Scatter(x=asks.index, y=asks.Ask_3, mode='lines',\n",
    "                            line=dict(color='Blue'),\n",
    "                            name='3 Ask Line',\n",
    "                            text = 'Price:  ' + asks['Ask_3'].astype(str) + '<br>' + 'Volume: ' + asks['Ask_3_Vol'].astype(str))\n",
    "\n",
    "bid_3_line_trace = go.Scatter(x=bids.index, y=bids.Bid_3, mode='lines',\n",
    "                            line=dict(color='Blue'),\n",
    "                            name='3 Bid Line',\n",
    "                            text = 'Price:  ' + bids['Bid_3'].astype(str) + '<br>' + 'Volume: ' + bids['Bid_3_Vol'].astype(str))\n",
    "\n",
    "ask_4_line_trace = go.Scatter(x=asks.index, y=asks.Ask_4, mode='lines',\n",
    "                            line=dict(color='Orange'),\n",
    "                            name='4 Ask Line',\n",
    "                            text = 'Price:  ' + asks['Ask_4'].astype(str) + '<br>' + 'Volume: ' + asks['Ask_4_Vol'].astype(str))\n",
    "\n",
    "bid_4_line_trace = go.Scatter(x=bids.index, y=bids.Bid_4, mode='lines',\n",
    "                            line=dict(color='Orange'),\n",
    "                            name='4 Bid Line',\n",
    "                            text = 'Price:  ' + bids['Bid_4'].astype(str) + '<br>' + 'Volume: ' + bids['Bid_4_Vol'].astype(str))\n",
    "\n",
    "ask_5_line_trace = go.Scatter(x=asks.index, y=asks.Ask_5, mode='lines',\n",
    "                            line=dict(color='Pink'),\n",
    "                            name='5 Ask Line',\n",
    "                            text = 'Price:  ' + asks['Ask_5'].astype(str) + '<br>' + 'Volume: ' + asks['Ask_5_Vol'].astype(str))\n",
    "\n",
    "bid_5_line_trace = go.Scatter(x=bids.index, y=bids.Bid_5, mode='lines',\n",
    "                            line=dict(color='Pink'),\n",
    "                            name='5 Bid Line',\n",
    "                            text = 'Price:  ' + bids['Bid_5'].astype(str) + '<br>' + 'Volume: ' + bids['Bid_5_Vol'].astype(str))\n",
    "\n",
    "# for comparison to lobster, we reset-index for best bid and asks and the lobster output does not have this\n",
    "asks = asks.reset_index()\n",
    "bids = bids.reset_index()\n",
    "\n",
    "my_ask_line_trace = go.Scatter(x=asks.index, y=asks.Ask_1, mode='lines',\n",
    "                            line=dict(color='red'),\n",
    "                            name='My Ask Line',\n",
    "                            text = 'Price:  ' + asks['Ask_1'].astype(str) + '<br>' + 'Volume: ' + asks['Ask_1_Vol'].astype(str))\n",
    "\n",
    "my_bid_line_trace = go.Scatter(x=bids.index, y=bids.Bid_1, mode='lines',\n",
    "                            line=dict(color='green'),\n",
    "                            name='My Bid Line',\n",
    "                            text = 'Price:  ' + bids['Bid_1'].astype(str) + '<br>' + 'Volume: ' + bids['Bid_1_Vol'].astype(str))"
   ]
  },
  {
   "cell_type": "code",
   "execution_count": 8,
   "metadata": {},
   "outputs": [],
   "source": [
    "graph_execution_data = [sell_trace, buy_trace, hidden_sell_trace, hidden_buy_trace, trade_trace]\n",
    "\n",
    "# Configure layout\n",
    "layout = go.Layout(title='AAPL Executions',\n",
    "                   xaxis=dict(title='Time', linecolor='black'),\n",
    "                   yaxis=dict(title='Price', linecolor='black'),\n",
    "                   height=750)\n",
    "\n",
    "# Create figure\n",
    "fig = go.Figure(data=graph_execution_data, layout=layout)\n",
    "\n",
    "#pio.write_image(fig, 'AAPL_Executions.png', format='png', scale=1, width=1400, height=800)\n",
    "#fig.show()"
   ]
  },
  {
   "attachments": {},
   "cell_type": "markdown",
   "metadata": {},
   "source": [
    "Sequence of buy and sell executions as well as hidden executions"
   ]
  },
  {
   "attachments": {},
   "cell_type": "markdown",
   "metadata": {},
   "source": [
    "!['Executions'](../data/images/AAPL_Executions.png)"
   ]
  },
  {
   "attachments": {},
   "cell_type": "markdown",
   "metadata": {},
   "source": [
    "A closer look:"
   ]
  },
  {
   "attachments": {},
   "cell_type": "markdown",
   "metadata": {},
   "source": [
    "!['Zoomed Executions'](../data/images/AAPL_Executions_Zoom.png)"
   ]
  },
  {
   "cell_type": "code",
   "execution_count": 9,
   "metadata": {},
   "outputs": [],
   "source": [
    "\n",
    "graph_bbo_data = [ask_line_trace, bid_line_trace, ask_2_line_trace, bid_2_line_trace, ask_3_line_trace, bid_3_line_trace, ask_4_line_trace, bid_4_line_trace, ask_5_line_trace, bid_5_line_trace, mid_trace]\n",
    "\n",
    "# Configure layout\n",
    "layout = go.Layout(title='AAPL Full Depth',\n",
    "                   xaxis=dict(title='Time', linecolor='black'),\n",
    "                   yaxis=dict(title='Price', linecolor='black'),\n",
    "                   height=750)\n",
    "\n",
    "# Create figure\n",
    "fig = go.Figure(data=graph_bbo_data, layout=layout)\n",
    "\n",
    "#pio.write_image(fig, 'AAPL_Full_Depth.png', format='png', scale=1, width=1400, height=800)\n",
    "#fig.show()"
   ]
  },
  {
   "attachments": {},
   "cell_type": "markdown",
   "metadata": {},
   "source": [
    "All 5 bid and ask levels:"
   ]
  },
  {
   "attachments": {},
   "cell_type": "markdown",
   "metadata": {},
   "source": [
    "!['All 5 bid and ask levels'](../data/images/AAPL_Full_Depth.png)"
   ]
  },
  {
   "attachments": {},
   "cell_type": "markdown",
   "metadata": {},
   "source": [
    "A closer look:"
   ]
  },
  {
   "attachments": {},
   "cell_type": "markdown",
   "metadata": {},
   "source": [
    "!['Closer Look'](../data/images/AAPL_Full_Depth_Zoom.png)"
   ]
  },
  {
   "cell_type": "code",
   "execution_count": 10,
   "metadata": {},
   "outputs": [
    {
     "ename": "FileNotFoundError",
     "evalue": "[Errno 2] No such file or directory: 'data/lobster/AAPL_2012-06-21_34200000_57600000_orderbook_1.csv'",
     "output_type": "error",
     "traceback": [
      "\u001b[0;31m---------------------------------------------------------------------------\u001b[0m",
      "\u001b[0;31mFileNotFoundError\u001b[0m                         Traceback (most recent call last)",
      "\u001b[0;32m<ipython-input-10-ac38e78621e2>\u001b[0m in \u001b[0;36m<module>\u001b[0;34m\u001b[0m\n\u001b[1;32m      3\u001b[0m \u001b[0;32mfrom\u001b[0m \u001b[0mplotly\u001b[0m\u001b[0;34m.\u001b[0m\u001b[0msubplots\u001b[0m \u001b[0;32mimport\u001b[0m \u001b[0mmake_subplots\u001b[0m\u001b[0;34m\u001b[0m\u001b[0;34m\u001b[0m\u001b[0m\n\u001b[1;32m      4\u001b[0m \u001b[0;34m\u001b[0m\u001b[0m\n\u001b[0;32m----> 5\u001b[0;31m \u001b[0mdata\u001b[0m \u001b[0;34m=\u001b[0m \u001b[0mpd\u001b[0m\u001b[0;34m.\u001b[0m\u001b[0mread_csv\u001b[0m\u001b[0;34m(\u001b[0m\u001b[0;34m\"data/lobster/AAPL_2012-06-21_34200000_57600000_orderbook_1.csv\"\u001b[0m\u001b[0;34m,\u001b[0m \u001b[0mnames\u001b[0m\u001b[0;34m=\u001b[0m\u001b[0;34m[\u001b[0m\u001b[0;34m'Ask_1'\u001b[0m\u001b[0;34m,\u001b[0m \u001b[0;34m'Ask_1_Vol'\u001b[0m\u001b[0;34m,\u001b[0m \u001b[0;34m'Bid_1'\u001b[0m\u001b[0;34m,\u001b[0m \u001b[0;34m'Bid_1_Vol'\u001b[0m\u001b[0;34m]\u001b[0m\u001b[0;34m)\u001b[0m\u001b[0;34m\u001b[0m\u001b[0;34m\u001b[0m\u001b[0m\n\u001b[0m\u001b[1;32m      6\u001b[0m \u001b[0mdata\u001b[0m\u001b[0;34m.\u001b[0m\u001b[0mAsk_1\u001b[0m \u001b[0;34m=\u001b[0m \u001b[0mdata\u001b[0m\u001b[0;34m.\u001b[0m\u001b[0mAsk_1\u001b[0m\u001b[0;34m/\u001b[0m\u001b[0;36m10000\u001b[0m\u001b[0;34m\u001b[0m\u001b[0;34m\u001b[0m\u001b[0m\n\u001b[1;32m      7\u001b[0m \u001b[0mdata\u001b[0m\u001b[0;34m.\u001b[0m\u001b[0mBid_1\u001b[0m \u001b[0;34m=\u001b[0m \u001b[0mdata\u001b[0m\u001b[0;34m.\u001b[0m\u001b[0mBid_1\u001b[0m\u001b[0;34m/\u001b[0m\u001b[0;36m10000\u001b[0m\u001b[0;34m\u001b[0m\u001b[0;34m\u001b[0m\u001b[0m\n",
      "\u001b[0;32m/Library/Frameworks/Python.framework/Versions/3.8/lib/python3.8/site-packages/pandas/io/parsers.py\u001b[0m in \u001b[0;36mread_csv\u001b[0;34m(filepath_or_buffer, sep, delimiter, header, names, index_col, usecols, squeeze, prefix, mangle_dupe_cols, dtype, engine, converters, true_values, false_values, skipinitialspace, skiprows, skipfooter, nrows, na_values, keep_default_na, na_filter, verbose, skip_blank_lines, parse_dates, infer_datetime_format, keep_date_col, date_parser, dayfirst, cache_dates, iterator, chunksize, compression, thousands, decimal, lineterminator, quotechar, quoting, doublequote, escapechar, comment, encoding, dialect, error_bad_lines, warn_bad_lines, delim_whitespace, low_memory, memory_map, float_precision, storage_options)\u001b[0m\n\u001b[1;32m    603\u001b[0m     \u001b[0mkwds\u001b[0m\u001b[0;34m.\u001b[0m\u001b[0mupdate\u001b[0m\u001b[0;34m(\u001b[0m\u001b[0mkwds_defaults\u001b[0m\u001b[0;34m)\u001b[0m\u001b[0;34m\u001b[0m\u001b[0;34m\u001b[0m\u001b[0m\n\u001b[1;32m    604\u001b[0m \u001b[0;34m\u001b[0m\u001b[0m\n\u001b[0;32m--> 605\u001b[0;31m     \u001b[0;32mreturn\u001b[0m \u001b[0m_read\u001b[0m\u001b[0;34m(\u001b[0m\u001b[0mfilepath_or_buffer\u001b[0m\u001b[0;34m,\u001b[0m \u001b[0mkwds\u001b[0m\u001b[0;34m)\u001b[0m\u001b[0;34m\u001b[0m\u001b[0;34m\u001b[0m\u001b[0m\n\u001b[0m\u001b[1;32m    606\u001b[0m \u001b[0;34m\u001b[0m\u001b[0m\n\u001b[1;32m    607\u001b[0m \u001b[0;34m\u001b[0m\u001b[0m\n",
      "\u001b[0;32m/Library/Frameworks/Python.framework/Versions/3.8/lib/python3.8/site-packages/pandas/io/parsers.py\u001b[0m in \u001b[0;36m_read\u001b[0;34m(filepath_or_buffer, kwds)\u001b[0m\n\u001b[1;32m    455\u001b[0m \u001b[0;34m\u001b[0m\u001b[0m\n\u001b[1;32m    456\u001b[0m     \u001b[0;31m# Create the parser.\u001b[0m\u001b[0;34m\u001b[0m\u001b[0;34m\u001b[0m\u001b[0;34m\u001b[0m\u001b[0m\n\u001b[0;32m--> 457\u001b[0;31m     \u001b[0mparser\u001b[0m \u001b[0;34m=\u001b[0m \u001b[0mTextFileReader\u001b[0m\u001b[0;34m(\u001b[0m\u001b[0mfilepath_or_buffer\u001b[0m\u001b[0;34m,\u001b[0m \u001b[0;34m**\u001b[0m\u001b[0mkwds\u001b[0m\u001b[0;34m)\u001b[0m\u001b[0;34m\u001b[0m\u001b[0;34m\u001b[0m\u001b[0m\n\u001b[0m\u001b[1;32m    458\u001b[0m \u001b[0;34m\u001b[0m\u001b[0m\n\u001b[1;32m    459\u001b[0m     \u001b[0;32mif\u001b[0m \u001b[0mchunksize\u001b[0m \u001b[0;32mor\u001b[0m \u001b[0miterator\u001b[0m\u001b[0;34m:\u001b[0m\u001b[0;34m\u001b[0m\u001b[0;34m\u001b[0m\u001b[0m\n",
      "\u001b[0;32m/Library/Frameworks/Python.framework/Versions/3.8/lib/python3.8/site-packages/pandas/io/parsers.py\u001b[0m in \u001b[0;36m__init__\u001b[0;34m(self, f, engine, **kwds)\u001b[0m\n\u001b[1;32m    812\u001b[0m             \u001b[0mself\u001b[0m\u001b[0;34m.\u001b[0m\u001b[0moptions\u001b[0m\u001b[0;34m[\u001b[0m\u001b[0;34m\"has_index_names\"\u001b[0m\u001b[0;34m]\u001b[0m \u001b[0;34m=\u001b[0m \u001b[0mkwds\u001b[0m\u001b[0;34m[\u001b[0m\u001b[0;34m\"has_index_names\"\u001b[0m\u001b[0;34m]\u001b[0m\u001b[0;34m\u001b[0m\u001b[0;34m\u001b[0m\u001b[0m\n\u001b[1;32m    813\u001b[0m \u001b[0;34m\u001b[0m\u001b[0m\n\u001b[0;32m--> 814\u001b[0;31m         \u001b[0mself\u001b[0m\u001b[0;34m.\u001b[0m\u001b[0m_engine\u001b[0m \u001b[0;34m=\u001b[0m \u001b[0mself\u001b[0m\u001b[0;34m.\u001b[0m\u001b[0m_make_engine\u001b[0m\u001b[0;34m(\u001b[0m\u001b[0mself\u001b[0m\u001b[0;34m.\u001b[0m\u001b[0mengine\u001b[0m\u001b[0;34m)\u001b[0m\u001b[0;34m\u001b[0m\u001b[0;34m\u001b[0m\u001b[0m\n\u001b[0m\u001b[1;32m    815\u001b[0m \u001b[0;34m\u001b[0m\u001b[0m\n\u001b[1;32m    816\u001b[0m     \u001b[0;32mdef\u001b[0m \u001b[0mclose\u001b[0m\u001b[0;34m(\u001b[0m\u001b[0mself\u001b[0m\u001b[0;34m)\u001b[0m\u001b[0;34m:\u001b[0m\u001b[0;34m\u001b[0m\u001b[0;34m\u001b[0m\u001b[0m\n",
      "\u001b[0;32m/Library/Frameworks/Python.framework/Versions/3.8/lib/python3.8/site-packages/pandas/io/parsers.py\u001b[0m in \u001b[0;36m_make_engine\u001b[0;34m(self, engine)\u001b[0m\n\u001b[1;32m   1043\u001b[0m             )\n\u001b[1;32m   1044\u001b[0m         \u001b[0;31m# error: Too many arguments for \"ParserBase\"\u001b[0m\u001b[0;34m\u001b[0m\u001b[0;34m\u001b[0m\u001b[0;34m\u001b[0m\u001b[0m\n\u001b[0;32m-> 1045\u001b[0;31m         \u001b[0;32mreturn\u001b[0m \u001b[0mmapping\u001b[0m\u001b[0;34m[\u001b[0m\u001b[0mengine\u001b[0m\u001b[0;34m]\u001b[0m\u001b[0;34m(\u001b[0m\u001b[0mself\u001b[0m\u001b[0;34m.\u001b[0m\u001b[0mf\u001b[0m\u001b[0;34m,\u001b[0m \u001b[0;34m**\u001b[0m\u001b[0mself\u001b[0m\u001b[0;34m.\u001b[0m\u001b[0moptions\u001b[0m\u001b[0;34m)\u001b[0m  \u001b[0;31m# type: ignore[call-arg]\u001b[0m\u001b[0;34m\u001b[0m\u001b[0;34m\u001b[0m\u001b[0m\n\u001b[0m\u001b[1;32m   1046\u001b[0m \u001b[0;34m\u001b[0m\u001b[0m\n\u001b[1;32m   1047\u001b[0m     \u001b[0;32mdef\u001b[0m \u001b[0m_failover_to_python\u001b[0m\u001b[0;34m(\u001b[0m\u001b[0mself\u001b[0m\u001b[0;34m)\u001b[0m\u001b[0;34m:\u001b[0m\u001b[0;34m\u001b[0m\u001b[0;34m\u001b[0m\u001b[0m\n",
      "\u001b[0;32m/Library/Frameworks/Python.framework/Versions/3.8/lib/python3.8/site-packages/pandas/io/parsers.py\u001b[0m in \u001b[0;36m__init__\u001b[0;34m(self, src, **kwds)\u001b[0m\n\u001b[1;32m   1860\u001b[0m \u001b[0;34m\u001b[0m\u001b[0m\n\u001b[1;32m   1861\u001b[0m         \u001b[0;31m# open handles\u001b[0m\u001b[0;34m\u001b[0m\u001b[0;34m\u001b[0m\u001b[0;34m\u001b[0m\u001b[0m\n\u001b[0;32m-> 1862\u001b[0;31m         \u001b[0mself\u001b[0m\u001b[0;34m.\u001b[0m\u001b[0m_open_handles\u001b[0m\u001b[0;34m(\u001b[0m\u001b[0msrc\u001b[0m\u001b[0;34m,\u001b[0m \u001b[0mkwds\u001b[0m\u001b[0;34m)\u001b[0m\u001b[0;34m\u001b[0m\u001b[0;34m\u001b[0m\u001b[0m\n\u001b[0m\u001b[1;32m   1863\u001b[0m         \u001b[0;32massert\u001b[0m \u001b[0mself\u001b[0m\u001b[0;34m.\u001b[0m\u001b[0mhandles\u001b[0m \u001b[0;32mis\u001b[0m \u001b[0;32mnot\u001b[0m \u001b[0;32mNone\u001b[0m\u001b[0;34m\u001b[0m\u001b[0;34m\u001b[0m\u001b[0m\n\u001b[1;32m   1864\u001b[0m         \u001b[0;32mfor\u001b[0m \u001b[0mkey\u001b[0m \u001b[0;32min\u001b[0m \u001b[0;34m(\u001b[0m\u001b[0;34m\"storage_options\"\u001b[0m\u001b[0;34m,\u001b[0m \u001b[0;34m\"encoding\"\u001b[0m\u001b[0;34m,\u001b[0m \u001b[0;34m\"memory_map\"\u001b[0m\u001b[0;34m,\u001b[0m \u001b[0;34m\"compression\"\u001b[0m\u001b[0;34m)\u001b[0m\u001b[0;34m:\u001b[0m\u001b[0;34m\u001b[0m\u001b[0;34m\u001b[0m\u001b[0m\n",
      "\u001b[0;32m/Library/Frameworks/Python.framework/Versions/3.8/lib/python3.8/site-packages/pandas/io/parsers.py\u001b[0m in \u001b[0;36m_open_handles\u001b[0;34m(self, src, kwds)\u001b[0m\n\u001b[1;32m   1355\u001b[0m         \u001b[0mLet\u001b[0m \u001b[0mthe\u001b[0m \u001b[0mreaders\u001b[0m \u001b[0mopen\u001b[0m \u001b[0mIOHanldes\u001b[0m \u001b[0mafter\u001b[0m \u001b[0mthey\u001b[0m \u001b[0mare\u001b[0m \u001b[0mdone\u001b[0m \u001b[0;32mwith\u001b[0m \u001b[0mtheir\u001b[0m \u001b[0mpotential\u001b[0m \u001b[0mraises\u001b[0m\u001b[0;34m.\u001b[0m\u001b[0;34m\u001b[0m\u001b[0;34m\u001b[0m\u001b[0m\n\u001b[1;32m   1356\u001b[0m         \"\"\"\n\u001b[0;32m-> 1357\u001b[0;31m         self.handles = get_handle(\n\u001b[0m\u001b[1;32m   1358\u001b[0m             \u001b[0msrc\u001b[0m\u001b[0;34m,\u001b[0m\u001b[0;34m\u001b[0m\u001b[0;34m\u001b[0m\u001b[0m\n\u001b[1;32m   1359\u001b[0m             \u001b[0;34m\"r\"\u001b[0m\u001b[0;34m,\u001b[0m\u001b[0;34m\u001b[0m\u001b[0;34m\u001b[0m\u001b[0m\n",
      "\u001b[0;32m/Library/Frameworks/Python.framework/Versions/3.8/lib/python3.8/site-packages/pandas/io/common.py\u001b[0m in \u001b[0;36mget_handle\u001b[0;34m(path_or_buf, mode, encoding, compression, memory_map, is_text, errors, storage_options)\u001b[0m\n\u001b[1;32m    640\u001b[0m                 \u001b[0merrors\u001b[0m \u001b[0;34m=\u001b[0m \u001b[0;34m\"replace\"\u001b[0m\u001b[0;34m\u001b[0m\u001b[0;34m\u001b[0m\u001b[0m\n\u001b[1;32m    641\u001b[0m             \u001b[0;31m# Encoding\u001b[0m\u001b[0;34m\u001b[0m\u001b[0;34m\u001b[0m\u001b[0;34m\u001b[0m\u001b[0m\n\u001b[0;32m--> 642\u001b[0;31m             handle = open(\n\u001b[0m\u001b[1;32m    643\u001b[0m                 \u001b[0mhandle\u001b[0m\u001b[0;34m,\u001b[0m\u001b[0;34m\u001b[0m\u001b[0;34m\u001b[0m\u001b[0m\n\u001b[1;32m    644\u001b[0m                 \u001b[0mioargs\u001b[0m\u001b[0;34m.\u001b[0m\u001b[0mmode\u001b[0m\u001b[0;34m,\u001b[0m\u001b[0;34m\u001b[0m\u001b[0;34m\u001b[0m\u001b[0m\n",
      "\u001b[0;31mFileNotFoundError\u001b[0m: [Errno 2] No such file or directory: 'data/lobster/AAPL_2012-06-21_34200000_57600000_orderbook_1.csv'"
     ]
    }
   ],
   "source": [
    "# compare to LOBSTER Orderbook file\n",
    "\n",
    "from plotly.subplots import make_subplots\n",
    "\n",
    "data = pd.read_csv(\"data/lobster/AAPL_2012-06-21_34200000_57600000_orderbook_1.csv\", names=['Ask_1', 'Ask_1_Vol', 'Bid_1', 'Bid_1_Vol'])\n",
    "data.Ask_1 = data.Ask_1/10000\n",
    "data.Bid_1 = data.Bid_1/10000\n",
    "# trim to roughly the same time frame\n",
    "data = data[:8750]\n",
    "lb_bids = data.drop(columns=['Ask_1', 'Ask_1_Vol'])\n",
    "lb_asks = data.drop(columns=['Bid_1', 'Bid_1_Vol'])\n",
    "\n",
    "# Line plots for asks and bids\n",
    "lb_ask_line_trace = go.Scatter(x=lb_asks.index, y=lb_asks.Ask_1, mode='lines',\n",
    "                            line=dict(color='red'),\n",
    "                            name='Lob Ask Line',\n",
    "                            text = 'Price:  ' + lb_asks['Ask_1'].astype(str) + '<br>' + 'Volume: ' + lb_asks['Ask_1_Vol'].astype(str))\n",
    "\n",
    "\n",
    "lb_bid_line_trace = go.Scatter(x=lb_bids.index, y=lb_bids.Bid_1, mode='lines',\n",
    "                            line=dict(color='green'),\n",
    "                            name='Lob Bid Line',\n",
    "                            text = 'Price:  ' + lb_bids['Bid_1'].astype(str) + '<br>' + 'Volume: ' + lb_bids['Bid_1_Vol'].astype(str))\n",
    "\n",
    "graph_data = [lb_ask_line_trace, lb_bid_line_trace]\n",
    "\n",
    "# Configure layout\n",
    "layout = go.Layout(title='AAPL BBO LOBSTER Output',\n",
    "                   xaxis=dict(title='Time', linecolor='black'),\n",
    "                   yaxis=dict(title='Price',linecolor='black'),\n",
    "                   height=750)\n",
    "\n",
    "\n",
    "# get side by side view\n",
    "fig = make_subplots(rows=1, cols=2, subplot_titles=('Lobster Output', 'My Output'),horizontal_spacing=0.1)\n",
    "# lobster traces\n",
    "fig.add_trace(lb_ask_line_trace, row=1,col=1)\n",
    "fig.add_trace(lb_bid_line_trace, row=1,col=1)\n",
    "# my orderr book output traces\n",
    "fig.add_trace(my_ask_line_trace, row=1,col=2)\n",
    "fig.add_trace(my_bid_line_trace, row=1,col=2)\n",
    "\n",
    "#pio.write_image(fig, 'AAPL_BBO_LOBSTER_Comparison.png', format='png', scale=1, width=1400, height=800)\n",
    "#fig.show()"
   ]
  },
  {
   "attachments": {},
   "cell_type": "markdown",
   "metadata": {},
   "source": [
    "Lobster orderbook file compared with our orderbook that we constructed based on the message file"
   ]
  },
  {
   "attachments": {},
   "cell_type": "markdown",
   "metadata": {},
   "source": [
    "!['Lobster orderbook file compared with our orderbook that we constructed based on the message file'](../data/images/AAPL_BBO_LOBSTER_Comparison.png)"
   ]
  },
  {
   "attachments": {},
   "cell_type": "markdown",
   "metadata": {},
   "source": []
  }
 ],
 "metadata": {
  "kernelspec": {
   "display_name": "Python 3",
   "language": "python",
   "name": "python3"
  },
  "language_info": {
   "codemirror_mode": {
    "name": "ipython",
    "version": 3
   },
   "file_extension": ".py",
   "mimetype": "text/x-python",
   "name": "python",
   "nbconvert_exporter": "python",
   "pygments_lexer": "ipython3",
   "version": "3.8.5"
  }
 },
 "nbformat": 4,
 "nbformat_minor": 4
}
