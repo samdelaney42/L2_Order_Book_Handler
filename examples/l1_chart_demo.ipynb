{
 "cells": [
  {
   "cell_type": "code",
   "execution_count": 1,
   "metadata": {},
   "outputs": [
    {
     "name": "stdout",
     "output_type": "stream",
     "text": [
      "91997\n"
     ]
    },
    {
     "data": {
      "text/html": [
       "<div>\n",
       "<style scoped>\n",
       "    .dataframe tbody tr th:only-of-type {\n",
       "        vertical-align: middle;\n",
       "    }\n",
       "\n",
       "    .dataframe tbody tr th {\n",
       "        vertical-align: top;\n",
       "    }\n",
       "\n",
       "    .dataframe thead th {\n",
       "        text-align: right;\n",
       "    }\n",
       "</style>\n",
       "<table border=\"1\" class=\"dataframe\">\n",
       "  <thead>\n",
       "    <tr style=\"text-align: right;\">\n",
       "      <th></th>\n",
       "      <th>time</th>\n",
       "      <th>type</th>\n",
       "      <th>id</th>\n",
       "      <th>shares</th>\n",
       "      <th>price</th>\n",
       "      <th>direction</th>\n",
       "    </tr>\n",
       "  </thead>\n",
       "  <tbody>\n",
       "    <tr>\n",
       "      <th>0</th>\n",
       "      <td>34200.004241</td>\n",
       "      <td>1</td>\n",
       "      <td>16113575</td>\n",
       "      <td>18</td>\n",
       "      <td>585.33</td>\n",
       "      <td>1</td>\n",
       "    </tr>\n",
       "    <tr>\n",
       "      <th>1</th>\n",
       "      <td>34200.004261</td>\n",
       "      <td>1</td>\n",
       "      <td>16113584</td>\n",
       "      <td>18</td>\n",
       "      <td>585.32</td>\n",
       "      <td>1</td>\n",
       "    </tr>\n",
       "    <tr>\n",
       "      <th>2</th>\n",
       "      <td>34200.004447</td>\n",
       "      <td>1</td>\n",
       "      <td>16113594</td>\n",
       "      <td>18</td>\n",
       "      <td>585.31</td>\n",
       "      <td>1</td>\n",
       "    </tr>\n",
       "    <tr>\n",
       "      <th>3</th>\n",
       "      <td>34200.025552</td>\n",
       "      <td>1</td>\n",
       "      <td>16120456</td>\n",
       "      <td>18</td>\n",
       "      <td>585.91</td>\n",
       "      <td>-1</td>\n",
       "    </tr>\n",
       "    <tr>\n",
       "      <th>4</th>\n",
       "      <td>34200.025580</td>\n",
       "      <td>1</td>\n",
       "      <td>16120480</td>\n",
       "      <td>18</td>\n",
       "      <td>585.92</td>\n",
       "      <td>-1</td>\n",
       "    </tr>\n",
       "  </tbody>\n",
       "</table>\n",
       "</div>"
      ],
      "text/plain": [
       "           time  type        id  shares   price  direction\n",
       "0  34200.004241     1  16113575      18  585.33          1\n",
       "1  34200.004261     1  16113584      18  585.32          1\n",
       "2  34200.004447     1  16113594      18  585.31          1\n",
       "3  34200.025552     1  16120456      18  585.91         -1\n",
       "4  34200.025580     1  16120480      18  585.92         -1"
      ]
     },
     "execution_count": 1,
     "metadata": {},
     "output_type": "execute_result"
    }
   ],
   "source": [
    "import sys\n",
    "sys.path.append('../src')\n",
    "from order_book import Book\n",
    "from order_book import Format\n",
    "from event import Event\n",
    "from datetime import datetime\n",
    "import pandas as pd\n",
    "import numpy as np\n",
    "import plotly.graph_objects as go\n",
    "import plotly.io as pio\n",
    "\n",
    "\n",
    "# import lobster message file\n",
    "cols = ['time', 'type', 'id', 'shares', 'price', 'direction']\n",
    "data = pd.read_csv(\"../data/lobster/AAPL_2012-06-21_34200000_37800000_message_50.csv\", names=cols)\n",
    "# re-scale the price col\n",
    "data.price = data.price/10000\n",
    "# make sure data is during market hours\n",
    "data = data[data['time']>= 9.5*60*60]\n",
    "data = data[data['time']<= 16*60*60]\n",
    "print(len(data))\n",
    "data.head()"
   ]
  },
  {
   "cell_type": "code",
   "execution_count": 2,
   "metadata": {},
   "outputs": [],
   "source": [
    "# create order book object\n",
    "book = Book()\n",
    "events = []\n",
    "\n",
    "# iterate through event messages and read into book - test using first 20k events\n",
    "for i in range(150):\n",
    "    event = Event(data.loc[i])\n",
    "    book.handleEvent(event, i)\n",
    "    events.append(event)"
   ]
  },
  {
   "cell_type": "code",
   "execution_count": 3,
   "metadata": {},
   "outputs": [],
   "source": [
    "# pull all the visible executions into a trades data frame\n",
    "# split them into buys and sells based on direction\n",
    "trades = pd.DataFrame(book.trades, columns=['Time', 'Price', 'Shares', 'Direction'])\n",
    "trades.Time = [datetime.fromtimestamp(trades.iloc[x].Time).time() for x in range(len(trades))]\n",
    "sells = trades[trades['Direction']==-1]\n",
    "buys = trades[trades['Direction']==1]"
   ]
  },
  {
   "cell_type": "code",
   "execution_count": 4,
   "metadata": {},
   "outputs": [],
   "source": [
    "# pull all the hidden executions into a trades data frame\n",
    "# split them into buys and sells based on direction\n",
    "hidden_trades = pd.DataFrame(book.hidden_trades, columns=['Time', 'Price', 'Shares', 'Direction'])\n",
    "hidden_trades.Time = [datetime.fromtimestamp(hidden_trades.iloc[x].Time).time() for x in range(len(hidden_trades))]\n",
    "hidden_sells = hidden_trades[hidden_trades['Direction']==-1]\n",
    "hidden_buys = hidden_trades[hidden_trades['Direction']==1]"
   ]
  },
  {
   "cell_type": "code",
   "execution_count": 5,
   "metadata": {},
   "outputs": [],
   "source": [
    "# get the book snapshots list and format it to match the LOBSTER output\n",
    "# We split the bid and ask side of the book to make it easier to plot below\n",
    "# remove the first few rows as they are 0\n",
    "formatted_book = Format(book.book_snapshot, 100).formatBook()\n",
    "# split the bids and asks starting from a defined index to remove the zero values at the begining \n",
    "bids, asks = formatted_book.splitBidsAsks()\n"
   ]
  },
  {
   "cell_type": "code",
   "execution_count": 6,
   "metadata": {},
   "outputs": [],
   "source": [
    "# take the bid and ask data\n",
    "bid_ask_data = formatted_book.data\n",
    "bid_ask_data = bid_ask_data.reset_index().rename(columns={'index':'Time'})\n",
    "bid_ask_data = bid_ask_data.drop_duplicates()\n",
    "# sync the starting time stamp with the trades data\n",
    "trades = trades[trades['Time']>=bid_ask_data.iloc[0]['Time']]\n",
    "\n",
    "# now lets trim the time stamps to show only seconds and smaller\n",
    "bid_ask_data.Time = [datetime.strptime(str(i), \"%H:%M:%S.%f\").strftime(\"%S.%f\") for i in bid_ask_data.Time]\n",
    "trades.Time = [datetime.strptime(str(i), \"%H:%M:%S.%f\").strftime(\"%S.%f\") for i in trades.Time]"
   ]
  },
  {
   "cell_type": "code",
   "execution_count": 7,
   "metadata": {},
   "outputs": [],
   "source": [
    "# set up fig dict\n",
    "my_fig_dict = {\n",
    "    \"data\": [],\n",
    "    \"layout\": {},\n",
    "    \"frames\": []\n",
    "}"
   ]
  },
  {
   "cell_type": "code",
   "execution_count": 8,
   "metadata": {},
   "outputs": [],
   "source": [
    "# fill in most of layout\n",
    "my_fig_dict[\"layout\"][\"xaxis\"] = {\"autorange\": True, 'tickmode':'linear', 'dtick':'250ms', 'tickformat':'%S.%.3f'}\n",
    "my_fig_dict[\"layout\"][\"yaxis\"] = {\"title\": \"AAPL Price\"}\n",
    "my_fig_dict[\"layout\"][\"hovermode\"] = \"closest\"\n",
    "my_fig_dict[\"layout\"][\"barmode\"] = \"stack\"\n",
    "my_fig_dict[\"layout\"][\"updatemenus\"] = [\n",
    "    {\n",
    "        \"buttons\": [\n",
    "            {\"args\": [None, {\"frame\": {\"duration\": 0, \"redraw\": False},\"fromcurrent\": True, \"transition\": {\"duration\": 0,\"easing\": \"quadratic-in-out\"}}],\"label\": \"Play\",\"method\": \"animate\"},\n",
    "            {\"args\": [[None], {\"frame\": {\"duration\": 0, \"redraw\": False},\"mode\": \"immediate\",\"transition\": {\"duration\": 0}}],\"label\": \"Pause\",\"method\": \"animate\"}\n",
    "        ]\n",
    "    }\n",
    "]\n",
    "\n",
    "my_sliders_dict = {\"active\": 0,\"xanchor\": \"left\",\"currentvalue\": {\"prefix\": \"Time:\",},\"pad\": {\"b\": 0, \"t\": 120},\"len\": 0.9,\"x\": 0.05,\"y\": 0,\"steps\": []}"
   ]
  },
  {
   "cell_type": "code",
   "execution_count": 9,
   "metadata": {},
   "outputs": [],
   "source": [
    "# create all the traces then add to the dictionary\n",
    "best_bid_price_trace = dict(x=bid_ask_data.Time, y=bid_ask_data.Bid_1, mode='lines', line=dict(color='green'), name='best_bid')\n",
    "my_fig_dict[\"data\"].append(best_bid_price_trace)\n",
    "\n",
    "best_ask_price_trace = dict(x=bid_ask_data.Time, y=bid_ask_data.Ask_1, mode='lines', line=dict(color='red'), name='best_ask')\n",
    "my_fig_dict[\"data\"].append(best_ask_price_trace)\n",
    "\n",
    "best_bid_vol_trace = go.Bar(x=bid_ask_data.Time, y=bid_ask_data.Bid_1_Vol, marker=dict(color='green'), name='best_bid_vol', text=bid_ask_data.Bid_1.astype(str))\n",
    "my_fig_dict[\"data\"].append(best_bid_vol_trace)\n",
    "\n",
    "best_ask_vol_trace = go.Bar(x=bid_ask_data.Time, y=bid_ask_data.Ask_1_Vol, marker=dict(color='red'), name='best_ask_vol', text=bid_ask_data.Ask_1.astype(str))\n",
    "my_fig_dict[\"data\"].append(best_ask_vol_trace)\n",
    "\n",
    "trades_trace = dict(x=trades.Time, y=trades.Price, mode='markers', marker=dict(color='blue', size=np.log(trades.Shares)*5), name='Executions', text='Shares: ' + trades.Shares.astype(str))\n",
    "my_fig_dict[\"data\"].append(trades_trace)"
   ]
  },
  {
   "cell_type": "code",
   "execution_count": 10,
   "metadata": {},
   "outputs": [],
   "source": [
    "# create frames, adding each to frame dict\n",
    "\n",
    "for time_step in bid_ask_data.Time:\n",
    "    my_frame ={'data': [], 'name': str(time_step)}\n",
    "\n",
    "    time_step_data = bid_ask_data[bid_ask_data['Time'] <= time_step]\n",
    "    time_step_trades_data = trades[trades['Time'] <= time_step]\n",
    "    \n",
    "    best_bid_price_time_trace = dict(x=time_step_data.Time, y=time_step_data.Bid_1, mode='lines', line=dict(color='green'), name='best_bid')\n",
    "    my_frame[\"data\"].append(best_bid_price_time_trace)\n",
    "\n",
    "    best_ask_price_time_trace = dict(x=time_step_data.Time, y=time_step_data.Ask_1, mode='lines', line=dict(color='red'), name='best_ask')\n",
    "    my_frame[\"data\"].append(best_ask_price_time_trace)\n",
    "\n",
    "    best_bid_vol_time_trace = go.Bar(x=time_step_data.Time, y=time_step_data.Bid_1_Vol, marker=dict(color='green'), name='best_bid_vol', text=time_step_data.Bid_1.astype(str))\n",
    "    my_frame[\"data\"].append(best_bid_vol_time_trace)\n",
    "\n",
    "    best_ask_vol_time_trace = go.Bar(x=time_step_data.Time, y=time_step_data.Ask_1_Vol, marker=dict(color='red'), name='best_ask_vol', text=time_step_data.Ask_1.astype(str))\n",
    "    my_frame[\"data\"].append(best_ask_vol_time_trace)\n",
    "\n",
    "    trades_time_trace = dict(x=time_step_trades_data.Time, y=time_step_trades_data.Price, mode='markers', marker=dict(color='blue', size=np.log(trades.Shares)*5), name='Executions', text='Shares: ' + trades.Shares.astype(str))\n",
    "    my_frame[\"data\"].append(trades_time_trace)\n",
    "\n",
    "    my_fig_dict[\"frames\"].append(my_frame)\n",
    "    my_slider_step = {\"args\": [[time_step],{\"frame\": {\"duration\": 0, \"redraw\": False},\"mode\": \"immediate\",\"transition\": {\"duration\": 0}}],\"label\": str(time_step),\"method\": \"animate\"}\n",
    "    my_sliders_dict[\"steps\"].append(my_slider_step)"
   ]
  },
  {
   "cell_type": "code",
   "execution_count": 11,
   "metadata": {},
   "outputs": [
    {
     "data": {
      "application/vnd.plotly.v1+json": {
       "config": {
        "plotlyServerURL": "https://plot.ly"
       },
       "data": [
        {
         "line": {
          "color": "green"
         },
         "mode": "lines",
         "name": "best_bid",
         "type": "scatter",
         "x": [
          "00.502026",
          "00.610600",
          "00.610751",
          "00.701389",
          "00.763060",
          "00.833761",
          "00.887489",
          "00.887549",
          "00.911978",
          "00.918221",
          "01.009855",
          "01.009877",
          "01.011353",
          "01.014980",
          "01.015081",
          "01.015180",
          "01.015781",
          "01.016169",
          "01.031807",
          "01.043833"
         ],
         "y": [
          585.7,
          585.7,
          585.7,
          585.7,
          585.7,
          585.7,
          585.7,
          585.71,
          585.74,
          585.74,
          585.74,
          585.74,
          585.7,
          585.69,
          585.65,
          585.66,
          585.66,
          585.66,
          585.66,
          585.69
         ]
        },
        {
         "line": {
          "color": "red"
         },
         "mode": "lines",
         "name": "best_ask",
         "type": "scatter",
         "x": [
          "00.502026",
          "00.610600",
          "00.610751",
          "00.701389",
          "00.763060",
          "00.833761",
          "00.887489",
          "00.887549",
          "00.911978",
          "00.918221",
          "01.009855",
          "01.009877",
          "01.011353",
          "01.014980",
          "01.015081",
          "01.015180",
          "01.015781",
          "01.016169",
          "01.031807",
          "01.043833"
         ],
         "y": [
          585.92,
          585.92,
          585.93,
          585.87,
          585.87,
          585.87,
          585.87,
          585.87,
          585.87,
          585.87,
          585.87,
          585.87,
          585.87,
          585.87,
          585.87,
          585.87,
          585.87,
          585.87,
          585.87,
          585.87
         ]
        },
        {
         "marker": {
          "color": "green"
         },
         "name": "best_bid_vol",
         "text": [
          "585.7",
          "585.7",
          "585.7",
          "585.7",
          "585.7",
          "585.7",
          "585.7",
          "585.71",
          "585.74",
          "585.74",
          "585.74",
          "585.74",
          "585.7",
          "585.69",
          "585.65",
          "585.66",
          "585.66",
          "585.66",
          "585.66",
          "585.69"
         ],
         "type": "bar",
         "x": [
          "00.502026",
          "00.610600",
          "00.610751",
          "00.701389",
          "00.763060",
          "00.833761",
          "00.887489",
          "00.887549",
          "00.911978",
          "00.918221",
          "01.009855",
          "01.009877",
          "01.011353",
          "01.014980",
          "01.015081",
          "01.015180",
          "01.015781",
          "01.016169",
          "01.031807",
          "01.043833"
         ],
         "xaxis": "x2",
         "y": [
          27,
          27,
          27,
          27,
          26,
          126,
          44,
          18,
          100,
          100,
          100,
          100,
          26,
          20,
          5,
          18,
          18,
          18,
          18,
          18
         ],
         "yaxis": "y2"
        },
        {
         "marker": {
          "color": "red"
         },
         "name": "best_ask_vol",
         "text": [
          "585.92",
          "585.92",
          "585.93",
          "585.87",
          "585.87",
          "585.87",
          "585.87",
          "585.87",
          "585.87",
          "585.87",
          "585.87",
          "585.87",
          "585.87",
          "585.87",
          "585.87",
          "585.87",
          "585.87",
          "585.87",
          "585.87",
          "585.87"
         ],
         "type": "bar",
         "x": [
          "00.502026",
          "00.610600",
          "00.610751",
          "00.701389",
          "00.763060",
          "00.833761",
          "00.887489",
          "00.887549",
          "00.911978",
          "00.918221",
          "01.009855",
          "01.009877",
          "01.011353",
          "01.014980",
          "01.015081",
          "01.015180",
          "01.015781",
          "01.016169",
          "01.031807",
          "01.043833"
         ],
         "xaxis": "x2",
         "y": [
          18,
          18,
          59,
          100,
          100,
          100,
          100,
          100,
          100,
          100,
          100,
          100,
          100,
          100,
          100,
          100,
          100,
          100,
          100,
          100
         ],
         "yaxis": "y2"
        },
        {
         "marker": {
          "color": "blue",
          "size": [
           0,
           23.02585092994046,
           16.29048269010741,
           14.978661367769954
          ]
         },
         "mode": "markers",
         "name": "Executions",
         "text": [
          "Shares: 1.0",
          "Shares: 100.0",
          "Shares: 26.0",
          "Shares: 20.0"
         ],
         "type": "scatter",
         "x": [
          "00.763060",
          "01.011353",
          "01.014980",
          "01.015081"
         ],
         "y": [
          585.7,
          585.74,
          585.7,
          585.69
         ]
        }
       ],
       "frames": [
        {
         "data": [
          {
           "line": {
            "color": "green"
           },
           "mode": "lines",
           "name": "best_bid",
           "type": "scatter",
           "x": [
            "00.502026"
           ],
           "y": [
            585.7
           ]
          },
          {
           "line": {
            "color": "red"
           },
           "mode": "lines",
           "name": "best_ask",
           "type": "scatter",
           "x": [
            "00.502026"
           ],
           "y": [
            585.92
           ]
          },
          {
           "marker": {
            "color": "green"
           },
           "name": "best_bid_vol",
           "text": [
            "585.7"
           ],
           "type": "bar",
           "x": [
            "00.502026"
           ],
           "y": [
            27
           ]
          },
          {
           "marker": {
            "color": "red"
           },
           "name": "best_ask_vol",
           "text": [
            "585.92"
           ],
           "type": "bar",
           "x": [
            "00.502026"
           ],
           "y": [
            18
           ]
          },
          {
           "marker": {
            "color": "blue",
            "size": [
             0,
             23.02585092994046,
             16.29048269010741,
             14.978661367769954
            ]
           },
           "mode": "markers",
           "name": "Executions",
           "text": [
            "Shares: 1.0",
            "Shares: 100.0",
            "Shares: 26.0",
            "Shares: 20.0"
           ],
           "type": "scatter",
           "x": [],
           "y": []
          }
         ],
         "name": "00.502026"
        },
        {
         "data": [
          {
           "line": {
            "color": "green"
           },
           "mode": "lines",
           "name": "best_bid",
           "type": "scatter",
           "x": [
            "00.502026",
            "00.610600"
           ],
           "y": [
            585.7,
            585.7
           ]
          },
          {
           "line": {
            "color": "red"
           },
           "mode": "lines",
           "name": "best_ask",
           "type": "scatter",
           "x": [
            "00.502026",
            "00.610600"
           ],
           "y": [
            585.92,
            585.92
           ]
          },
          {
           "marker": {
            "color": "green"
           },
           "name": "best_bid_vol",
           "text": [
            "585.7",
            "585.7"
           ],
           "type": "bar",
           "x": [
            "00.502026",
            "00.610600"
           ],
           "y": [
            27,
            27
           ]
          },
          {
           "marker": {
            "color": "red"
           },
           "name": "best_ask_vol",
           "text": [
            "585.92",
            "585.92"
           ],
           "type": "bar",
           "x": [
            "00.502026",
            "00.610600"
           ],
           "y": [
            18,
            18
           ]
          },
          {
           "marker": {
            "color": "blue",
            "size": [
             0,
             23.02585092994046,
             16.29048269010741,
             14.978661367769954
            ]
           },
           "mode": "markers",
           "name": "Executions",
           "text": [
            "Shares: 1.0",
            "Shares: 100.0",
            "Shares: 26.0",
            "Shares: 20.0"
           ],
           "type": "scatter",
           "x": [],
           "y": []
          }
         ],
         "name": "00.610600"
        },
        {
         "data": [
          {
           "line": {
            "color": "green"
           },
           "mode": "lines",
           "name": "best_bid",
           "type": "scatter",
           "x": [
            "00.502026",
            "00.610600",
            "00.610751"
           ],
           "y": [
            585.7,
            585.7,
            585.7
           ]
          },
          {
           "line": {
            "color": "red"
           },
           "mode": "lines",
           "name": "best_ask",
           "type": "scatter",
           "x": [
            "00.502026",
            "00.610600",
            "00.610751"
           ],
           "y": [
            585.92,
            585.92,
            585.93
           ]
          },
          {
           "marker": {
            "color": "green"
           },
           "name": "best_bid_vol",
           "text": [
            "585.7",
            "585.7",
            "585.7"
           ],
           "type": "bar",
           "x": [
            "00.502026",
            "00.610600",
            "00.610751"
           ],
           "y": [
            27,
            27,
            27
           ]
          },
          {
           "marker": {
            "color": "red"
           },
           "name": "best_ask_vol",
           "text": [
            "585.92",
            "585.92",
            "585.93"
           ],
           "type": "bar",
           "x": [
            "00.502026",
            "00.610600",
            "00.610751"
           ],
           "y": [
            18,
            18,
            59
           ]
          },
          {
           "marker": {
            "color": "blue",
            "size": [
             0,
             23.02585092994046,
             16.29048269010741,
             14.978661367769954
            ]
           },
           "mode": "markers",
           "name": "Executions",
           "text": [
            "Shares: 1.0",
            "Shares: 100.0",
            "Shares: 26.0",
            "Shares: 20.0"
           ],
           "type": "scatter",
           "x": [],
           "y": []
          }
         ],
         "name": "00.610751"
        },
        {
         "data": [
          {
           "line": {
            "color": "green"
           },
           "mode": "lines",
           "name": "best_bid",
           "type": "scatter",
           "x": [
            "00.502026",
            "00.610600",
            "00.610751",
            "00.701389"
           ],
           "y": [
            585.7,
            585.7,
            585.7,
            585.7
           ]
          },
          {
           "line": {
            "color": "red"
           },
           "mode": "lines",
           "name": "best_ask",
           "type": "scatter",
           "x": [
            "00.502026",
            "00.610600",
            "00.610751",
            "00.701389"
           ],
           "y": [
            585.92,
            585.92,
            585.93,
            585.87
           ]
          },
          {
           "marker": {
            "color": "green"
           },
           "name": "best_bid_vol",
           "text": [
            "585.7",
            "585.7",
            "585.7",
            "585.7"
           ],
           "type": "bar",
           "x": [
            "00.502026",
            "00.610600",
            "00.610751",
            "00.701389"
           ],
           "y": [
            27,
            27,
            27,
            27
           ]
          },
          {
           "marker": {
            "color": "red"
           },
           "name": "best_ask_vol",
           "text": [
            "585.92",
            "585.92",
            "585.93",
            "585.87"
           ],
           "type": "bar",
           "x": [
            "00.502026",
            "00.610600",
            "00.610751",
            "00.701389"
           ],
           "y": [
            18,
            18,
            59,
            100
           ]
          },
          {
           "marker": {
            "color": "blue",
            "size": [
             0,
             23.02585092994046,
             16.29048269010741,
             14.978661367769954
            ]
           },
           "mode": "markers",
           "name": "Executions",
           "text": [
            "Shares: 1.0",
            "Shares: 100.0",
            "Shares: 26.0",
            "Shares: 20.0"
           ],
           "type": "scatter",
           "x": [],
           "y": []
          }
         ],
         "name": "00.701389"
        },
        {
         "data": [
          {
           "line": {
            "color": "green"
           },
           "mode": "lines",
           "name": "best_bid",
           "type": "scatter",
           "x": [
            "00.502026",
            "00.610600",
            "00.610751",
            "00.701389",
            "00.763060"
           ],
           "y": [
            585.7,
            585.7,
            585.7,
            585.7,
            585.7
           ]
          },
          {
           "line": {
            "color": "red"
           },
           "mode": "lines",
           "name": "best_ask",
           "type": "scatter",
           "x": [
            "00.502026",
            "00.610600",
            "00.610751",
            "00.701389",
            "00.763060"
           ],
           "y": [
            585.92,
            585.92,
            585.93,
            585.87,
            585.87
           ]
          },
          {
           "marker": {
            "color": "green"
           },
           "name": "best_bid_vol",
           "text": [
            "585.7",
            "585.7",
            "585.7",
            "585.7",
            "585.7"
           ],
           "type": "bar",
           "x": [
            "00.502026",
            "00.610600",
            "00.610751",
            "00.701389",
            "00.763060"
           ],
           "y": [
            27,
            27,
            27,
            27,
            26
           ]
          },
          {
           "marker": {
            "color": "red"
           },
           "name": "best_ask_vol",
           "text": [
            "585.92",
            "585.92",
            "585.93",
            "585.87",
            "585.87"
           ],
           "type": "bar",
           "x": [
            "00.502026",
            "00.610600",
            "00.610751",
            "00.701389",
            "00.763060"
           ],
           "y": [
            18,
            18,
            59,
            100,
            100
           ]
          },
          {
           "marker": {
            "color": "blue",
            "size": [
             0,
             23.02585092994046,
             16.29048269010741,
             14.978661367769954
            ]
           },
           "mode": "markers",
           "name": "Executions",
           "text": [
            "Shares: 1.0",
            "Shares: 100.0",
            "Shares: 26.0",
            "Shares: 20.0"
           ],
           "type": "scatter",
           "x": [
            "00.763060"
           ],
           "y": [
            585.7
           ]
          }
         ],
         "name": "00.763060"
        },
        {
         "data": [
          {
           "line": {
            "color": "green"
           },
           "mode": "lines",
           "name": "best_bid",
           "type": "scatter",
           "x": [
            "00.502026",
            "00.610600",
            "00.610751",
            "00.701389",
            "00.763060",
            "00.833761"
           ],
           "y": [
            585.7,
            585.7,
            585.7,
            585.7,
            585.7,
            585.7
           ]
          },
          {
           "line": {
            "color": "red"
           },
           "mode": "lines",
           "name": "best_ask",
           "type": "scatter",
           "x": [
            "00.502026",
            "00.610600",
            "00.610751",
            "00.701389",
            "00.763060",
            "00.833761"
           ],
           "y": [
            585.92,
            585.92,
            585.93,
            585.87,
            585.87,
            585.87
           ]
          },
          {
           "marker": {
            "color": "green"
           },
           "name": "best_bid_vol",
           "text": [
            "585.7",
            "585.7",
            "585.7",
            "585.7",
            "585.7",
            "585.7"
           ],
           "type": "bar",
           "x": [
            "00.502026",
            "00.610600",
            "00.610751",
            "00.701389",
            "00.763060",
            "00.833761"
           ],
           "y": [
            27,
            27,
            27,
            27,
            26,
            126
           ]
          },
          {
           "marker": {
            "color": "red"
           },
           "name": "best_ask_vol",
           "text": [
            "585.92",
            "585.92",
            "585.93",
            "585.87",
            "585.87",
            "585.87"
           ],
           "type": "bar",
           "x": [
            "00.502026",
            "00.610600",
            "00.610751",
            "00.701389",
            "00.763060",
            "00.833761"
           ],
           "y": [
            18,
            18,
            59,
            100,
            100,
            100
           ]
          },
          {
           "marker": {
            "color": "blue",
            "size": [
             0,
             23.02585092994046,
             16.29048269010741,
             14.978661367769954
            ]
           },
           "mode": "markers",
           "name": "Executions",
           "text": [
            "Shares: 1.0",
            "Shares: 100.0",
            "Shares: 26.0",
            "Shares: 20.0"
           ],
           "type": "scatter",
           "x": [
            "00.763060"
           ],
           "y": [
            585.7
           ]
          }
         ],
         "name": "00.833761"
        },
        {
         "data": [
          {
           "line": {
            "color": "green"
           },
           "mode": "lines",
           "name": "best_bid",
           "type": "scatter",
           "x": [
            "00.502026",
            "00.610600",
            "00.610751",
            "00.701389",
            "00.763060",
            "00.833761",
            "00.887489"
           ],
           "y": [
            585.7,
            585.7,
            585.7,
            585.7,
            585.7,
            585.7,
            585.7
           ]
          },
          {
           "line": {
            "color": "red"
           },
           "mode": "lines",
           "name": "best_ask",
           "type": "scatter",
           "x": [
            "00.502026",
            "00.610600",
            "00.610751",
            "00.701389",
            "00.763060",
            "00.833761",
            "00.887489"
           ],
           "y": [
            585.92,
            585.92,
            585.93,
            585.87,
            585.87,
            585.87,
            585.87
           ]
          },
          {
           "marker": {
            "color": "green"
           },
           "name": "best_bid_vol",
           "text": [
            "585.7",
            "585.7",
            "585.7",
            "585.7",
            "585.7",
            "585.7",
            "585.7"
           ],
           "type": "bar",
           "x": [
            "00.502026",
            "00.610600",
            "00.610751",
            "00.701389",
            "00.763060",
            "00.833761",
            "00.887489"
           ],
           "y": [
            27,
            27,
            27,
            27,
            26,
            126,
            44
           ]
          },
          {
           "marker": {
            "color": "red"
           },
           "name": "best_ask_vol",
           "text": [
            "585.92",
            "585.92",
            "585.93",
            "585.87",
            "585.87",
            "585.87",
            "585.87"
           ],
           "type": "bar",
           "x": [
            "00.502026",
            "00.610600",
            "00.610751",
            "00.701389",
            "00.763060",
            "00.833761",
            "00.887489"
           ],
           "y": [
            18,
            18,
            59,
            100,
            100,
            100,
            100
           ]
          },
          {
           "marker": {
            "color": "blue",
            "size": [
             0,
             23.02585092994046,
             16.29048269010741,
             14.978661367769954
            ]
           },
           "mode": "markers",
           "name": "Executions",
           "text": [
            "Shares: 1.0",
            "Shares: 100.0",
            "Shares: 26.0",
            "Shares: 20.0"
           ],
           "type": "scatter",
           "x": [
            "00.763060"
           ],
           "y": [
            585.7
           ]
          }
         ],
         "name": "00.887489"
        },
        {
         "data": [
          {
           "line": {
            "color": "green"
           },
           "mode": "lines",
           "name": "best_bid",
           "type": "scatter",
           "x": [
            "00.502026",
            "00.610600",
            "00.610751",
            "00.701389",
            "00.763060",
            "00.833761",
            "00.887489",
            "00.887549"
           ],
           "y": [
            585.7,
            585.7,
            585.7,
            585.7,
            585.7,
            585.7,
            585.7,
            585.71
           ]
          },
          {
           "line": {
            "color": "red"
           },
           "mode": "lines",
           "name": "best_ask",
           "type": "scatter",
           "x": [
            "00.502026",
            "00.610600",
            "00.610751",
            "00.701389",
            "00.763060",
            "00.833761",
            "00.887489",
            "00.887549"
           ],
           "y": [
            585.92,
            585.92,
            585.93,
            585.87,
            585.87,
            585.87,
            585.87,
            585.87
           ]
          },
          {
           "marker": {
            "color": "green"
           },
           "name": "best_bid_vol",
           "text": [
            "585.7",
            "585.7",
            "585.7",
            "585.7",
            "585.7",
            "585.7",
            "585.7",
            "585.71"
           ],
           "type": "bar",
           "x": [
            "00.502026",
            "00.610600",
            "00.610751",
            "00.701389",
            "00.763060",
            "00.833761",
            "00.887489",
            "00.887549"
           ],
           "y": [
            27,
            27,
            27,
            27,
            26,
            126,
            44,
            18
           ]
          },
          {
           "marker": {
            "color": "red"
           },
           "name": "best_ask_vol",
           "text": [
            "585.92",
            "585.92",
            "585.93",
            "585.87",
            "585.87",
            "585.87",
            "585.87",
            "585.87"
           ],
           "type": "bar",
           "x": [
            "00.502026",
            "00.610600",
            "00.610751",
            "00.701389",
            "00.763060",
            "00.833761",
            "00.887489",
            "00.887549"
           ],
           "y": [
            18,
            18,
            59,
            100,
            100,
            100,
            100,
            100
           ]
          },
          {
           "marker": {
            "color": "blue",
            "size": [
             0,
             23.02585092994046,
             16.29048269010741,
             14.978661367769954
            ]
           },
           "mode": "markers",
           "name": "Executions",
           "text": [
            "Shares: 1.0",
            "Shares: 100.0",
            "Shares: 26.0",
            "Shares: 20.0"
           ],
           "type": "scatter",
           "x": [
            "00.763060"
           ],
           "y": [
            585.7
           ]
          }
         ],
         "name": "00.887549"
        },
        {
         "data": [
          {
           "line": {
            "color": "green"
           },
           "mode": "lines",
           "name": "best_bid",
           "type": "scatter",
           "x": [
            "00.502026",
            "00.610600",
            "00.610751",
            "00.701389",
            "00.763060",
            "00.833761",
            "00.887489",
            "00.887549",
            "00.911978"
           ],
           "y": [
            585.7,
            585.7,
            585.7,
            585.7,
            585.7,
            585.7,
            585.7,
            585.71,
            585.74
           ]
          },
          {
           "line": {
            "color": "red"
           },
           "mode": "lines",
           "name": "best_ask",
           "type": "scatter",
           "x": [
            "00.502026",
            "00.610600",
            "00.610751",
            "00.701389",
            "00.763060",
            "00.833761",
            "00.887489",
            "00.887549",
            "00.911978"
           ],
           "y": [
            585.92,
            585.92,
            585.93,
            585.87,
            585.87,
            585.87,
            585.87,
            585.87,
            585.87
           ]
          },
          {
           "marker": {
            "color": "green"
           },
           "name": "best_bid_vol",
           "text": [
            "585.7",
            "585.7",
            "585.7",
            "585.7",
            "585.7",
            "585.7",
            "585.7",
            "585.71",
            "585.74"
           ],
           "type": "bar",
           "x": [
            "00.502026",
            "00.610600",
            "00.610751",
            "00.701389",
            "00.763060",
            "00.833761",
            "00.887489",
            "00.887549",
            "00.911978"
           ],
           "y": [
            27,
            27,
            27,
            27,
            26,
            126,
            44,
            18,
            100
           ]
          },
          {
           "marker": {
            "color": "red"
           },
           "name": "best_ask_vol",
           "text": [
            "585.92",
            "585.92",
            "585.93",
            "585.87",
            "585.87",
            "585.87",
            "585.87",
            "585.87",
            "585.87"
           ],
           "type": "bar",
           "x": [
            "00.502026",
            "00.610600",
            "00.610751",
            "00.701389",
            "00.763060",
            "00.833761",
            "00.887489",
            "00.887549",
            "00.911978"
           ],
           "y": [
            18,
            18,
            59,
            100,
            100,
            100,
            100,
            100,
            100
           ]
          },
          {
           "marker": {
            "color": "blue",
            "size": [
             0,
             23.02585092994046,
             16.29048269010741,
             14.978661367769954
            ]
           },
           "mode": "markers",
           "name": "Executions",
           "text": [
            "Shares: 1.0",
            "Shares: 100.0",
            "Shares: 26.0",
            "Shares: 20.0"
           ],
           "type": "scatter",
           "x": [
            "00.763060"
           ],
           "y": [
            585.7
           ]
          }
         ],
         "name": "00.911978"
        },
        {
         "data": [
          {
           "line": {
            "color": "green"
           },
           "mode": "lines",
           "name": "best_bid",
           "type": "scatter",
           "x": [
            "00.502026",
            "00.610600",
            "00.610751",
            "00.701389",
            "00.763060",
            "00.833761",
            "00.887489",
            "00.887549",
            "00.911978",
            "00.918221"
           ],
           "y": [
            585.7,
            585.7,
            585.7,
            585.7,
            585.7,
            585.7,
            585.7,
            585.71,
            585.74,
            585.74
           ]
          },
          {
           "line": {
            "color": "red"
           },
           "mode": "lines",
           "name": "best_ask",
           "type": "scatter",
           "x": [
            "00.502026",
            "00.610600",
            "00.610751",
            "00.701389",
            "00.763060",
            "00.833761",
            "00.887489",
            "00.887549",
            "00.911978",
            "00.918221"
           ],
           "y": [
            585.92,
            585.92,
            585.93,
            585.87,
            585.87,
            585.87,
            585.87,
            585.87,
            585.87,
            585.87
           ]
          },
          {
           "marker": {
            "color": "green"
           },
           "name": "best_bid_vol",
           "text": [
            "585.7",
            "585.7",
            "585.7",
            "585.7",
            "585.7",
            "585.7",
            "585.7",
            "585.71",
            "585.74",
            "585.74"
           ],
           "type": "bar",
           "x": [
            "00.502026",
            "00.610600",
            "00.610751",
            "00.701389",
            "00.763060",
            "00.833761",
            "00.887489",
            "00.887549",
            "00.911978",
            "00.918221"
           ],
           "y": [
            27,
            27,
            27,
            27,
            26,
            126,
            44,
            18,
            100,
            100
           ]
          },
          {
           "marker": {
            "color": "red"
           },
           "name": "best_ask_vol",
           "text": [
            "585.92",
            "585.92",
            "585.93",
            "585.87",
            "585.87",
            "585.87",
            "585.87",
            "585.87",
            "585.87",
            "585.87"
           ],
           "type": "bar",
           "x": [
            "00.502026",
            "00.610600",
            "00.610751",
            "00.701389",
            "00.763060",
            "00.833761",
            "00.887489",
            "00.887549",
            "00.911978",
            "00.918221"
           ],
           "y": [
            18,
            18,
            59,
            100,
            100,
            100,
            100,
            100,
            100,
            100
           ]
          },
          {
           "marker": {
            "color": "blue",
            "size": [
             0,
             23.02585092994046,
             16.29048269010741,
             14.978661367769954
            ]
           },
           "mode": "markers",
           "name": "Executions",
           "text": [
            "Shares: 1.0",
            "Shares: 100.0",
            "Shares: 26.0",
            "Shares: 20.0"
           ],
           "type": "scatter",
           "x": [
            "00.763060"
           ],
           "y": [
            585.7
           ]
          }
         ],
         "name": "00.918221"
        },
        {
         "data": [
          {
           "line": {
            "color": "green"
           },
           "mode": "lines",
           "name": "best_bid",
           "type": "scatter",
           "x": [
            "00.502026",
            "00.610600",
            "00.610751",
            "00.701389",
            "00.763060",
            "00.833761",
            "00.887489",
            "00.887549",
            "00.911978",
            "00.918221",
            "01.009855"
           ],
           "y": [
            585.7,
            585.7,
            585.7,
            585.7,
            585.7,
            585.7,
            585.7,
            585.71,
            585.74,
            585.74,
            585.74
           ]
          },
          {
           "line": {
            "color": "red"
           },
           "mode": "lines",
           "name": "best_ask",
           "type": "scatter",
           "x": [
            "00.502026",
            "00.610600",
            "00.610751",
            "00.701389",
            "00.763060",
            "00.833761",
            "00.887489",
            "00.887549",
            "00.911978",
            "00.918221",
            "01.009855"
           ],
           "y": [
            585.92,
            585.92,
            585.93,
            585.87,
            585.87,
            585.87,
            585.87,
            585.87,
            585.87,
            585.87,
            585.87
           ]
          },
          {
           "marker": {
            "color": "green"
           },
           "name": "best_bid_vol",
           "text": [
            "585.7",
            "585.7",
            "585.7",
            "585.7",
            "585.7",
            "585.7",
            "585.7",
            "585.71",
            "585.74",
            "585.74",
            "585.74"
           ],
           "type": "bar",
           "x": [
            "00.502026",
            "00.610600",
            "00.610751",
            "00.701389",
            "00.763060",
            "00.833761",
            "00.887489",
            "00.887549",
            "00.911978",
            "00.918221",
            "01.009855"
           ],
           "y": [
            27,
            27,
            27,
            27,
            26,
            126,
            44,
            18,
            100,
            100,
            100
           ]
          },
          {
           "marker": {
            "color": "red"
           },
           "name": "best_ask_vol",
           "text": [
            "585.92",
            "585.92",
            "585.93",
            "585.87",
            "585.87",
            "585.87",
            "585.87",
            "585.87",
            "585.87",
            "585.87",
            "585.87"
           ],
           "type": "bar",
           "x": [
            "00.502026",
            "00.610600",
            "00.610751",
            "00.701389",
            "00.763060",
            "00.833761",
            "00.887489",
            "00.887549",
            "00.911978",
            "00.918221",
            "01.009855"
           ],
           "y": [
            18,
            18,
            59,
            100,
            100,
            100,
            100,
            100,
            100,
            100,
            100
           ]
          },
          {
           "marker": {
            "color": "blue",
            "size": [
             0,
             23.02585092994046,
             16.29048269010741,
             14.978661367769954
            ]
           },
           "mode": "markers",
           "name": "Executions",
           "text": [
            "Shares: 1.0",
            "Shares: 100.0",
            "Shares: 26.0",
            "Shares: 20.0"
           ],
           "type": "scatter",
           "x": [
            "00.763060"
           ],
           "y": [
            585.7
           ]
          }
         ],
         "name": "01.009855"
        },
        {
         "data": [
          {
           "line": {
            "color": "green"
           },
           "mode": "lines",
           "name": "best_bid",
           "type": "scatter",
           "x": [
            "00.502026",
            "00.610600",
            "00.610751",
            "00.701389",
            "00.763060",
            "00.833761",
            "00.887489",
            "00.887549",
            "00.911978",
            "00.918221",
            "01.009855",
            "01.009877"
           ],
           "y": [
            585.7,
            585.7,
            585.7,
            585.7,
            585.7,
            585.7,
            585.7,
            585.71,
            585.74,
            585.74,
            585.74,
            585.74
           ]
          },
          {
           "line": {
            "color": "red"
           },
           "mode": "lines",
           "name": "best_ask",
           "type": "scatter",
           "x": [
            "00.502026",
            "00.610600",
            "00.610751",
            "00.701389",
            "00.763060",
            "00.833761",
            "00.887489",
            "00.887549",
            "00.911978",
            "00.918221",
            "01.009855",
            "01.009877"
           ],
           "y": [
            585.92,
            585.92,
            585.93,
            585.87,
            585.87,
            585.87,
            585.87,
            585.87,
            585.87,
            585.87,
            585.87,
            585.87
           ]
          },
          {
           "marker": {
            "color": "green"
           },
           "name": "best_bid_vol",
           "text": [
            "585.7",
            "585.7",
            "585.7",
            "585.7",
            "585.7",
            "585.7",
            "585.7",
            "585.71",
            "585.74",
            "585.74",
            "585.74",
            "585.74"
           ],
           "type": "bar",
           "x": [
            "00.502026",
            "00.610600",
            "00.610751",
            "00.701389",
            "00.763060",
            "00.833761",
            "00.887489",
            "00.887549",
            "00.911978",
            "00.918221",
            "01.009855",
            "01.009877"
           ],
           "y": [
            27,
            27,
            27,
            27,
            26,
            126,
            44,
            18,
            100,
            100,
            100,
            100
           ]
          },
          {
           "marker": {
            "color": "red"
           },
           "name": "best_ask_vol",
           "text": [
            "585.92",
            "585.92",
            "585.93",
            "585.87",
            "585.87",
            "585.87",
            "585.87",
            "585.87",
            "585.87",
            "585.87",
            "585.87",
            "585.87"
           ],
           "type": "bar",
           "x": [
            "00.502026",
            "00.610600",
            "00.610751",
            "00.701389",
            "00.763060",
            "00.833761",
            "00.887489",
            "00.887549",
            "00.911978",
            "00.918221",
            "01.009855",
            "01.009877"
           ],
           "y": [
            18,
            18,
            59,
            100,
            100,
            100,
            100,
            100,
            100,
            100,
            100,
            100
           ]
          },
          {
           "marker": {
            "color": "blue",
            "size": [
             0,
             23.02585092994046,
             16.29048269010741,
             14.978661367769954
            ]
           },
           "mode": "markers",
           "name": "Executions",
           "text": [
            "Shares: 1.0",
            "Shares: 100.0",
            "Shares: 26.0",
            "Shares: 20.0"
           ],
           "type": "scatter",
           "x": [
            "00.763060"
           ],
           "y": [
            585.7
           ]
          }
         ],
         "name": "01.009877"
        },
        {
         "data": [
          {
           "line": {
            "color": "green"
           },
           "mode": "lines",
           "name": "best_bid",
           "type": "scatter",
           "x": [
            "00.502026",
            "00.610600",
            "00.610751",
            "00.701389",
            "00.763060",
            "00.833761",
            "00.887489",
            "00.887549",
            "00.911978",
            "00.918221",
            "01.009855",
            "01.009877",
            "01.011353"
           ],
           "y": [
            585.7,
            585.7,
            585.7,
            585.7,
            585.7,
            585.7,
            585.7,
            585.71,
            585.74,
            585.74,
            585.74,
            585.74,
            585.7
           ]
          },
          {
           "line": {
            "color": "red"
           },
           "mode": "lines",
           "name": "best_ask",
           "type": "scatter",
           "x": [
            "00.502026",
            "00.610600",
            "00.610751",
            "00.701389",
            "00.763060",
            "00.833761",
            "00.887489",
            "00.887549",
            "00.911978",
            "00.918221",
            "01.009855",
            "01.009877",
            "01.011353"
           ],
           "y": [
            585.92,
            585.92,
            585.93,
            585.87,
            585.87,
            585.87,
            585.87,
            585.87,
            585.87,
            585.87,
            585.87,
            585.87,
            585.87
           ]
          },
          {
           "marker": {
            "color": "green"
           },
           "name": "best_bid_vol",
           "text": [
            "585.7",
            "585.7",
            "585.7",
            "585.7",
            "585.7",
            "585.7",
            "585.7",
            "585.71",
            "585.74",
            "585.74",
            "585.74",
            "585.74",
            "585.7"
           ],
           "type": "bar",
           "x": [
            "00.502026",
            "00.610600",
            "00.610751",
            "00.701389",
            "00.763060",
            "00.833761",
            "00.887489",
            "00.887549",
            "00.911978",
            "00.918221",
            "01.009855",
            "01.009877",
            "01.011353"
           ],
           "y": [
            27,
            27,
            27,
            27,
            26,
            126,
            44,
            18,
            100,
            100,
            100,
            100,
            26
           ]
          },
          {
           "marker": {
            "color": "red"
           },
           "name": "best_ask_vol",
           "text": [
            "585.92",
            "585.92",
            "585.93",
            "585.87",
            "585.87",
            "585.87",
            "585.87",
            "585.87",
            "585.87",
            "585.87",
            "585.87",
            "585.87",
            "585.87"
           ],
           "type": "bar",
           "x": [
            "00.502026",
            "00.610600",
            "00.610751",
            "00.701389",
            "00.763060",
            "00.833761",
            "00.887489",
            "00.887549",
            "00.911978",
            "00.918221",
            "01.009855",
            "01.009877",
            "01.011353"
           ],
           "y": [
            18,
            18,
            59,
            100,
            100,
            100,
            100,
            100,
            100,
            100,
            100,
            100,
            100
           ]
          },
          {
           "marker": {
            "color": "blue",
            "size": [
             0,
             23.02585092994046,
             16.29048269010741,
             14.978661367769954
            ]
           },
           "mode": "markers",
           "name": "Executions",
           "text": [
            "Shares: 1.0",
            "Shares: 100.0",
            "Shares: 26.0",
            "Shares: 20.0"
           ],
           "type": "scatter",
           "x": [
            "00.763060",
            "01.011353"
           ],
           "y": [
            585.7,
            585.74
           ]
          }
         ],
         "name": "01.011353"
        },
        {
         "data": [
          {
           "line": {
            "color": "green"
           },
           "mode": "lines",
           "name": "best_bid",
           "type": "scatter",
           "x": [
            "00.502026",
            "00.610600",
            "00.610751",
            "00.701389",
            "00.763060",
            "00.833761",
            "00.887489",
            "00.887549",
            "00.911978",
            "00.918221",
            "01.009855",
            "01.009877",
            "01.011353",
            "01.014980"
           ],
           "y": [
            585.7,
            585.7,
            585.7,
            585.7,
            585.7,
            585.7,
            585.7,
            585.71,
            585.74,
            585.74,
            585.74,
            585.74,
            585.7,
            585.69
           ]
          },
          {
           "line": {
            "color": "red"
           },
           "mode": "lines",
           "name": "best_ask",
           "type": "scatter",
           "x": [
            "00.502026",
            "00.610600",
            "00.610751",
            "00.701389",
            "00.763060",
            "00.833761",
            "00.887489",
            "00.887549",
            "00.911978",
            "00.918221",
            "01.009855",
            "01.009877",
            "01.011353",
            "01.014980"
           ],
           "y": [
            585.92,
            585.92,
            585.93,
            585.87,
            585.87,
            585.87,
            585.87,
            585.87,
            585.87,
            585.87,
            585.87,
            585.87,
            585.87,
            585.87
           ]
          },
          {
           "marker": {
            "color": "green"
           },
           "name": "best_bid_vol",
           "text": [
            "585.7",
            "585.7",
            "585.7",
            "585.7",
            "585.7",
            "585.7",
            "585.7",
            "585.71",
            "585.74",
            "585.74",
            "585.74",
            "585.74",
            "585.7",
            "585.69"
           ],
           "type": "bar",
           "x": [
            "00.502026",
            "00.610600",
            "00.610751",
            "00.701389",
            "00.763060",
            "00.833761",
            "00.887489",
            "00.887549",
            "00.911978",
            "00.918221",
            "01.009855",
            "01.009877",
            "01.011353",
            "01.014980"
           ],
           "y": [
            27,
            27,
            27,
            27,
            26,
            126,
            44,
            18,
            100,
            100,
            100,
            100,
            26,
            20
           ]
          },
          {
           "marker": {
            "color": "red"
           },
           "name": "best_ask_vol",
           "text": [
            "585.92",
            "585.92",
            "585.93",
            "585.87",
            "585.87",
            "585.87",
            "585.87",
            "585.87",
            "585.87",
            "585.87",
            "585.87",
            "585.87",
            "585.87",
            "585.87"
           ],
           "type": "bar",
           "x": [
            "00.502026",
            "00.610600",
            "00.610751",
            "00.701389",
            "00.763060",
            "00.833761",
            "00.887489",
            "00.887549",
            "00.911978",
            "00.918221",
            "01.009855",
            "01.009877",
            "01.011353",
            "01.014980"
           ],
           "y": [
            18,
            18,
            59,
            100,
            100,
            100,
            100,
            100,
            100,
            100,
            100,
            100,
            100,
            100
           ]
          },
          {
           "marker": {
            "color": "blue",
            "size": [
             0,
             23.02585092994046,
             16.29048269010741,
             14.978661367769954
            ]
           },
           "mode": "markers",
           "name": "Executions",
           "text": [
            "Shares: 1.0",
            "Shares: 100.0",
            "Shares: 26.0",
            "Shares: 20.0"
           ],
           "type": "scatter",
           "x": [
            "00.763060",
            "01.011353",
            "01.014980"
           ],
           "y": [
            585.7,
            585.74,
            585.7
           ]
          }
         ],
         "name": "01.014980"
        },
        {
         "data": [
          {
           "line": {
            "color": "green"
           },
           "mode": "lines",
           "name": "best_bid",
           "type": "scatter",
           "x": [
            "00.502026",
            "00.610600",
            "00.610751",
            "00.701389",
            "00.763060",
            "00.833761",
            "00.887489",
            "00.887549",
            "00.911978",
            "00.918221",
            "01.009855",
            "01.009877",
            "01.011353",
            "01.014980",
            "01.015081"
           ],
           "y": [
            585.7,
            585.7,
            585.7,
            585.7,
            585.7,
            585.7,
            585.7,
            585.71,
            585.74,
            585.74,
            585.74,
            585.74,
            585.7,
            585.69,
            585.65
           ]
          },
          {
           "line": {
            "color": "red"
           },
           "mode": "lines",
           "name": "best_ask",
           "type": "scatter",
           "x": [
            "00.502026",
            "00.610600",
            "00.610751",
            "00.701389",
            "00.763060",
            "00.833761",
            "00.887489",
            "00.887549",
            "00.911978",
            "00.918221",
            "01.009855",
            "01.009877",
            "01.011353",
            "01.014980",
            "01.015081"
           ],
           "y": [
            585.92,
            585.92,
            585.93,
            585.87,
            585.87,
            585.87,
            585.87,
            585.87,
            585.87,
            585.87,
            585.87,
            585.87,
            585.87,
            585.87,
            585.87
           ]
          },
          {
           "marker": {
            "color": "green"
           },
           "name": "best_bid_vol",
           "text": [
            "585.7",
            "585.7",
            "585.7",
            "585.7",
            "585.7",
            "585.7",
            "585.7",
            "585.71",
            "585.74",
            "585.74",
            "585.74",
            "585.74",
            "585.7",
            "585.69",
            "585.65"
           ],
           "type": "bar",
           "x": [
            "00.502026",
            "00.610600",
            "00.610751",
            "00.701389",
            "00.763060",
            "00.833761",
            "00.887489",
            "00.887549",
            "00.911978",
            "00.918221",
            "01.009855",
            "01.009877",
            "01.011353",
            "01.014980",
            "01.015081"
           ],
           "y": [
            27,
            27,
            27,
            27,
            26,
            126,
            44,
            18,
            100,
            100,
            100,
            100,
            26,
            20,
            5
           ]
          },
          {
           "marker": {
            "color": "red"
           },
           "name": "best_ask_vol",
           "text": [
            "585.92",
            "585.92",
            "585.93",
            "585.87",
            "585.87",
            "585.87",
            "585.87",
            "585.87",
            "585.87",
            "585.87",
            "585.87",
            "585.87",
            "585.87",
            "585.87",
            "585.87"
           ],
           "type": "bar",
           "x": [
            "00.502026",
            "00.610600",
            "00.610751",
            "00.701389",
            "00.763060",
            "00.833761",
            "00.887489",
            "00.887549",
            "00.911978",
            "00.918221",
            "01.009855",
            "01.009877",
            "01.011353",
            "01.014980",
            "01.015081"
           ],
           "y": [
            18,
            18,
            59,
            100,
            100,
            100,
            100,
            100,
            100,
            100,
            100,
            100,
            100,
            100,
            100
           ]
          },
          {
           "marker": {
            "color": "blue",
            "size": [
             0,
             23.02585092994046,
             16.29048269010741,
             14.978661367769954
            ]
           },
           "mode": "markers",
           "name": "Executions",
           "text": [
            "Shares: 1.0",
            "Shares: 100.0",
            "Shares: 26.0",
            "Shares: 20.0"
           ],
           "type": "scatter",
           "x": [
            "00.763060",
            "01.011353",
            "01.014980",
            "01.015081"
           ],
           "y": [
            585.7,
            585.74,
            585.7,
            585.69
           ]
          }
         ],
         "name": "01.015081"
        },
        {
         "data": [
          {
           "line": {
            "color": "green"
           },
           "mode": "lines",
           "name": "best_bid",
           "type": "scatter",
           "x": [
            "00.502026",
            "00.610600",
            "00.610751",
            "00.701389",
            "00.763060",
            "00.833761",
            "00.887489",
            "00.887549",
            "00.911978",
            "00.918221",
            "01.009855",
            "01.009877",
            "01.011353",
            "01.014980",
            "01.015081",
            "01.015180"
           ],
           "y": [
            585.7,
            585.7,
            585.7,
            585.7,
            585.7,
            585.7,
            585.7,
            585.71,
            585.74,
            585.74,
            585.74,
            585.74,
            585.7,
            585.69,
            585.65,
            585.66
           ]
          },
          {
           "line": {
            "color": "red"
           },
           "mode": "lines",
           "name": "best_ask",
           "type": "scatter",
           "x": [
            "00.502026",
            "00.610600",
            "00.610751",
            "00.701389",
            "00.763060",
            "00.833761",
            "00.887489",
            "00.887549",
            "00.911978",
            "00.918221",
            "01.009855",
            "01.009877",
            "01.011353",
            "01.014980",
            "01.015081",
            "01.015180"
           ],
           "y": [
            585.92,
            585.92,
            585.93,
            585.87,
            585.87,
            585.87,
            585.87,
            585.87,
            585.87,
            585.87,
            585.87,
            585.87,
            585.87,
            585.87,
            585.87,
            585.87
           ]
          },
          {
           "marker": {
            "color": "green"
           },
           "name": "best_bid_vol",
           "text": [
            "585.7",
            "585.7",
            "585.7",
            "585.7",
            "585.7",
            "585.7",
            "585.7",
            "585.71",
            "585.74",
            "585.74",
            "585.74",
            "585.74",
            "585.7",
            "585.69",
            "585.65",
            "585.66"
           ],
           "type": "bar",
           "x": [
            "00.502026",
            "00.610600",
            "00.610751",
            "00.701389",
            "00.763060",
            "00.833761",
            "00.887489",
            "00.887549",
            "00.911978",
            "00.918221",
            "01.009855",
            "01.009877",
            "01.011353",
            "01.014980",
            "01.015081",
            "01.015180"
           ],
           "y": [
            27,
            27,
            27,
            27,
            26,
            126,
            44,
            18,
            100,
            100,
            100,
            100,
            26,
            20,
            5,
            18
           ]
          },
          {
           "marker": {
            "color": "red"
           },
           "name": "best_ask_vol",
           "text": [
            "585.92",
            "585.92",
            "585.93",
            "585.87",
            "585.87",
            "585.87",
            "585.87",
            "585.87",
            "585.87",
            "585.87",
            "585.87",
            "585.87",
            "585.87",
            "585.87",
            "585.87",
            "585.87"
           ],
           "type": "bar",
           "x": [
            "00.502026",
            "00.610600",
            "00.610751",
            "00.701389",
            "00.763060",
            "00.833761",
            "00.887489",
            "00.887549",
            "00.911978",
            "00.918221",
            "01.009855",
            "01.009877",
            "01.011353",
            "01.014980",
            "01.015081",
            "01.015180"
           ],
           "y": [
            18,
            18,
            59,
            100,
            100,
            100,
            100,
            100,
            100,
            100,
            100,
            100,
            100,
            100,
            100,
            100
           ]
          },
          {
           "marker": {
            "color": "blue",
            "size": [
             0,
             23.02585092994046,
             16.29048269010741,
             14.978661367769954
            ]
           },
           "mode": "markers",
           "name": "Executions",
           "text": [
            "Shares: 1.0",
            "Shares: 100.0",
            "Shares: 26.0",
            "Shares: 20.0"
           ],
           "type": "scatter",
           "x": [
            "00.763060",
            "01.011353",
            "01.014980",
            "01.015081"
           ],
           "y": [
            585.7,
            585.74,
            585.7,
            585.69
           ]
          }
         ],
         "name": "01.015180"
        },
        {
         "data": [
          {
           "line": {
            "color": "green"
           },
           "mode": "lines",
           "name": "best_bid",
           "type": "scatter",
           "x": [
            "00.502026",
            "00.610600",
            "00.610751",
            "00.701389",
            "00.763060",
            "00.833761",
            "00.887489",
            "00.887549",
            "00.911978",
            "00.918221",
            "01.009855",
            "01.009877",
            "01.011353",
            "01.014980",
            "01.015081",
            "01.015180",
            "01.015781"
           ],
           "y": [
            585.7,
            585.7,
            585.7,
            585.7,
            585.7,
            585.7,
            585.7,
            585.71,
            585.74,
            585.74,
            585.74,
            585.74,
            585.7,
            585.69,
            585.65,
            585.66,
            585.66
           ]
          },
          {
           "line": {
            "color": "red"
           },
           "mode": "lines",
           "name": "best_ask",
           "type": "scatter",
           "x": [
            "00.502026",
            "00.610600",
            "00.610751",
            "00.701389",
            "00.763060",
            "00.833761",
            "00.887489",
            "00.887549",
            "00.911978",
            "00.918221",
            "01.009855",
            "01.009877",
            "01.011353",
            "01.014980",
            "01.015081",
            "01.015180",
            "01.015781"
           ],
           "y": [
            585.92,
            585.92,
            585.93,
            585.87,
            585.87,
            585.87,
            585.87,
            585.87,
            585.87,
            585.87,
            585.87,
            585.87,
            585.87,
            585.87,
            585.87,
            585.87,
            585.87
           ]
          },
          {
           "marker": {
            "color": "green"
           },
           "name": "best_bid_vol",
           "text": [
            "585.7",
            "585.7",
            "585.7",
            "585.7",
            "585.7",
            "585.7",
            "585.7",
            "585.71",
            "585.74",
            "585.74",
            "585.74",
            "585.74",
            "585.7",
            "585.69",
            "585.65",
            "585.66",
            "585.66"
           ],
           "type": "bar",
           "x": [
            "00.502026",
            "00.610600",
            "00.610751",
            "00.701389",
            "00.763060",
            "00.833761",
            "00.887489",
            "00.887549",
            "00.911978",
            "00.918221",
            "01.009855",
            "01.009877",
            "01.011353",
            "01.014980",
            "01.015081",
            "01.015180",
            "01.015781"
           ],
           "y": [
            27,
            27,
            27,
            27,
            26,
            126,
            44,
            18,
            100,
            100,
            100,
            100,
            26,
            20,
            5,
            18,
            18
           ]
          },
          {
           "marker": {
            "color": "red"
           },
           "name": "best_ask_vol",
           "text": [
            "585.92",
            "585.92",
            "585.93",
            "585.87",
            "585.87",
            "585.87",
            "585.87",
            "585.87",
            "585.87",
            "585.87",
            "585.87",
            "585.87",
            "585.87",
            "585.87",
            "585.87",
            "585.87",
            "585.87"
           ],
           "type": "bar",
           "x": [
            "00.502026",
            "00.610600",
            "00.610751",
            "00.701389",
            "00.763060",
            "00.833761",
            "00.887489",
            "00.887549",
            "00.911978",
            "00.918221",
            "01.009855",
            "01.009877",
            "01.011353",
            "01.014980",
            "01.015081",
            "01.015180",
            "01.015781"
           ],
           "y": [
            18,
            18,
            59,
            100,
            100,
            100,
            100,
            100,
            100,
            100,
            100,
            100,
            100,
            100,
            100,
            100,
            100
           ]
          },
          {
           "marker": {
            "color": "blue",
            "size": [
             0,
             23.02585092994046,
             16.29048269010741,
             14.978661367769954
            ]
           },
           "mode": "markers",
           "name": "Executions",
           "text": [
            "Shares: 1.0",
            "Shares: 100.0",
            "Shares: 26.0",
            "Shares: 20.0"
           ],
           "type": "scatter",
           "x": [
            "00.763060",
            "01.011353",
            "01.014980",
            "01.015081"
           ],
           "y": [
            585.7,
            585.74,
            585.7,
            585.69
           ]
          }
         ],
         "name": "01.015781"
        },
        {
         "data": [
          {
           "line": {
            "color": "green"
           },
           "mode": "lines",
           "name": "best_bid",
           "type": "scatter",
           "x": [
            "00.502026",
            "00.610600",
            "00.610751",
            "00.701389",
            "00.763060",
            "00.833761",
            "00.887489",
            "00.887549",
            "00.911978",
            "00.918221",
            "01.009855",
            "01.009877",
            "01.011353",
            "01.014980",
            "01.015081",
            "01.015180",
            "01.015781",
            "01.016169"
           ],
           "y": [
            585.7,
            585.7,
            585.7,
            585.7,
            585.7,
            585.7,
            585.7,
            585.71,
            585.74,
            585.74,
            585.74,
            585.74,
            585.7,
            585.69,
            585.65,
            585.66,
            585.66,
            585.66
           ]
          },
          {
           "line": {
            "color": "red"
           },
           "mode": "lines",
           "name": "best_ask",
           "type": "scatter",
           "x": [
            "00.502026",
            "00.610600",
            "00.610751",
            "00.701389",
            "00.763060",
            "00.833761",
            "00.887489",
            "00.887549",
            "00.911978",
            "00.918221",
            "01.009855",
            "01.009877",
            "01.011353",
            "01.014980",
            "01.015081",
            "01.015180",
            "01.015781",
            "01.016169"
           ],
           "y": [
            585.92,
            585.92,
            585.93,
            585.87,
            585.87,
            585.87,
            585.87,
            585.87,
            585.87,
            585.87,
            585.87,
            585.87,
            585.87,
            585.87,
            585.87,
            585.87,
            585.87,
            585.87
           ]
          },
          {
           "marker": {
            "color": "green"
           },
           "name": "best_bid_vol",
           "text": [
            "585.7",
            "585.7",
            "585.7",
            "585.7",
            "585.7",
            "585.7",
            "585.7",
            "585.71",
            "585.74",
            "585.74",
            "585.74",
            "585.74",
            "585.7",
            "585.69",
            "585.65",
            "585.66",
            "585.66",
            "585.66"
           ],
           "type": "bar",
           "x": [
            "00.502026",
            "00.610600",
            "00.610751",
            "00.701389",
            "00.763060",
            "00.833761",
            "00.887489",
            "00.887549",
            "00.911978",
            "00.918221",
            "01.009855",
            "01.009877",
            "01.011353",
            "01.014980",
            "01.015081",
            "01.015180",
            "01.015781",
            "01.016169"
           ],
           "y": [
            27,
            27,
            27,
            27,
            26,
            126,
            44,
            18,
            100,
            100,
            100,
            100,
            26,
            20,
            5,
            18,
            18,
            18
           ]
          },
          {
           "marker": {
            "color": "red"
           },
           "name": "best_ask_vol",
           "text": [
            "585.92",
            "585.92",
            "585.93",
            "585.87",
            "585.87",
            "585.87",
            "585.87",
            "585.87",
            "585.87",
            "585.87",
            "585.87",
            "585.87",
            "585.87",
            "585.87",
            "585.87",
            "585.87",
            "585.87",
            "585.87"
           ],
           "type": "bar",
           "x": [
            "00.502026",
            "00.610600",
            "00.610751",
            "00.701389",
            "00.763060",
            "00.833761",
            "00.887489",
            "00.887549",
            "00.911978",
            "00.918221",
            "01.009855",
            "01.009877",
            "01.011353",
            "01.014980",
            "01.015081",
            "01.015180",
            "01.015781",
            "01.016169"
           ],
           "y": [
            18,
            18,
            59,
            100,
            100,
            100,
            100,
            100,
            100,
            100,
            100,
            100,
            100,
            100,
            100,
            100,
            100,
            100
           ]
          },
          {
           "marker": {
            "color": "blue",
            "size": [
             0,
             23.02585092994046,
             16.29048269010741,
             14.978661367769954
            ]
           },
           "mode": "markers",
           "name": "Executions",
           "text": [
            "Shares: 1.0",
            "Shares: 100.0",
            "Shares: 26.0",
            "Shares: 20.0"
           ],
           "type": "scatter",
           "x": [
            "00.763060",
            "01.011353",
            "01.014980",
            "01.015081"
           ],
           "y": [
            585.7,
            585.74,
            585.7,
            585.69
           ]
          }
         ],
         "name": "01.016169"
        },
        {
         "data": [
          {
           "line": {
            "color": "green"
           },
           "mode": "lines",
           "name": "best_bid",
           "type": "scatter",
           "x": [
            "00.502026",
            "00.610600",
            "00.610751",
            "00.701389",
            "00.763060",
            "00.833761",
            "00.887489",
            "00.887549",
            "00.911978",
            "00.918221",
            "01.009855",
            "01.009877",
            "01.011353",
            "01.014980",
            "01.015081",
            "01.015180",
            "01.015781",
            "01.016169",
            "01.031807"
           ],
           "y": [
            585.7,
            585.7,
            585.7,
            585.7,
            585.7,
            585.7,
            585.7,
            585.71,
            585.74,
            585.74,
            585.74,
            585.74,
            585.7,
            585.69,
            585.65,
            585.66,
            585.66,
            585.66,
            585.66
           ]
          },
          {
           "line": {
            "color": "red"
           },
           "mode": "lines",
           "name": "best_ask",
           "type": "scatter",
           "x": [
            "00.502026",
            "00.610600",
            "00.610751",
            "00.701389",
            "00.763060",
            "00.833761",
            "00.887489",
            "00.887549",
            "00.911978",
            "00.918221",
            "01.009855",
            "01.009877",
            "01.011353",
            "01.014980",
            "01.015081",
            "01.015180",
            "01.015781",
            "01.016169",
            "01.031807"
           ],
           "y": [
            585.92,
            585.92,
            585.93,
            585.87,
            585.87,
            585.87,
            585.87,
            585.87,
            585.87,
            585.87,
            585.87,
            585.87,
            585.87,
            585.87,
            585.87,
            585.87,
            585.87,
            585.87,
            585.87
           ]
          },
          {
           "marker": {
            "color": "green"
           },
           "name": "best_bid_vol",
           "text": [
            "585.7",
            "585.7",
            "585.7",
            "585.7",
            "585.7",
            "585.7",
            "585.7",
            "585.71",
            "585.74",
            "585.74",
            "585.74",
            "585.74",
            "585.7",
            "585.69",
            "585.65",
            "585.66",
            "585.66",
            "585.66",
            "585.66"
           ],
           "type": "bar",
           "x": [
            "00.502026",
            "00.610600",
            "00.610751",
            "00.701389",
            "00.763060",
            "00.833761",
            "00.887489",
            "00.887549",
            "00.911978",
            "00.918221",
            "01.009855",
            "01.009877",
            "01.011353",
            "01.014980",
            "01.015081",
            "01.015180",
            "01.015781",
            "01.016169",
            "01.031807"
           ],
           "y": [
            27,
            27,
            27,
            27,
            26,
            126,
            44,
            18,
            100,
            100,
            100,
            100,
            26,
            20,
            5,
            18,
            18,
            18,
            18
           ]
          },
          {
           "marker": {
            "color": "red"
           },
           "name": "best_ask_vol",
           "text": [
            "585.92",
            "585.92",
            "585.93",
            "585.87",
            "585.87",
            "585.87",
            "585.87",
            "585.87",
            "585.87",
            "585.87",
            "585.87",
            "585.87",
            "585.87",
            "585.87",
            "585.87",
            "585.87",
            "585.87",
            "585.87",
            "585.87"
           ],
           "type": "bar",
           "x": [
            "00.502026",
            "00.610600",
            "00.610751",
            "00.701389",
            "00.763060",
            "00.833761",
            "00.887489",
            "00.887549",
            "00.911978",
            "00.918221",
            "01.009855",
            "01.009877",
            "01.011353",
            "01.014980",
            "01.015081",
            "01.015180",
            "01.015781",
            "01.016169",
            "01.031807"
           ],
           "y": [
            18,
            18,
            59,
            100,
            100,
            100,
            100,
            100,
            100,
            100,
            100,
            100,
            100,
            100,
            100,
            100,
            100,
            100,
            100
           ]
          },
          {
           "marker": {
            "color": "blue",
            "size": [
             0,
             23.02585092994046,
             16.29048269010741,
             14.978661367769954
            ]
           },
           "mode": "markers",
           "name": "Executions",
           "text": [
            "Shares: 1.0",
            "Shares: 100.0",
            "Shares: 26.0",
            "Shares: 20.0"
           ],
           "type": "scatter",
           "x": [
            "00.763060",
            "01.011353",
            "01.014980",
            "01.015081"
           ],
           "y": [
            585.7,
            585.74,
            585.7,
            585.69
           ]
          }
         ],
         "name": "01.031807"
        },
        {
         "data": [
          {
           "line": {
            "color": "green"
           },
           "mode": "lines",
           "name": "best_bid",
           "type": "scatter",
           "x": [
            "00.502026",
            "00.610600",
            "00.610751",
            "00.701389",
            "00.763060",
            "00.833761",
            "00.887489",
            "00.887549",
            "00.911978",
            "00.918221",
            "01.009855",
            "01.009877",
            "01.011353",
            "01.014980",
            "01.015081",
            "01.015180",
            "01.015781",
            "01.016169",
            "01.031807",
            "01.043833"
           ],
           "y": [
            585.7,
            585.7,
            585.7,
            585.7,
            585.7,
            585.7,
            585.7,
            585.71,
            585.74,
            585.74,
            585.74,
            585.74,
            585.7,
            585.69,
            585.65,
            585.66,
            585.66,
            585.66,
            585.66,
            585.69
           ]
          },
          {
           "line": {
            "color": "red"
           },
           "mode": "lines",
           "name": "best_ask",
           "type": "scatter",
           "x": [
            "00.502026",
            "00.610600",
            "00.610751",
            "00.701389",
            "00.763060",
            "00.833761",
            "00.887489",
            "00.887549",
            "00.911978",
            "00.918221",
            "01.009855",
            "01.009877",
            "01.011353",
            "01.014980",
            "01.015081",
            "01.015180",
            "01.015781",
            "01.016169",
            "01.031807",
            "01.043833"
           ],
           "y": [
            585.92,
            585.92,
            585.93,
            585.87,
            585.87,
            585.87,
            585.87,
            585.87,
            585.87,
            585.87,
            585.87,
            585.87,
            585.87,
            585.87,
            585.87,
            585.87,
            585.87,
            585.87,
            585.87,
            585.87
           ]
          },
          {
           "marker": {
            "color": "green"
           },
           "name": "best_bid_vol",
           "text": [
            "585.7",
            "585.7",
            "585.7",
            "585.7",
            "585.7",
            "585.7",
            "585.7",
            "585.71",
            "585.74",
            "585.74",
            "585.74",
            "585.74",
            "585.7",
            "585.69",
            "585.65",
            "585.66",
            "585.66",
            "585.66",
            "585.66",
            "585.69"
           ],
           "type": "bar",
           "x": [
            "00.502026",
            "00.610600",
            "00.610751",
            "00.701389",
            "00.763060",
            "00.833761",
            "00.887489",
            "00.887549",
            "00.911978",
            "00.918221",
            "01.009855",
            "01.009877",
            "01.011353",
            "01.014980",
            "01.015081",
            "01.015180",
            "01.015781",
            "01.016169",
            "01.031807",
            "01.043833"
           ],
           "y": [
            27,
            27,
            27,
            27,
            26,
            126,
            44,
            18,
            100,
            100,
            100,
            100,
            26,
            20,
            5,
            18,
            18,
            18,
            18,
            18
           ]
          },
          {
           "marker": {
            "color": "red"
           },
           "name": "best_ask_vol",
           "text": [
            "585.92",
            "585.92",
            "585.93",
            "585.87",
            "585.87",
            "585.87",
            "585.87",
            "585.87",
            "585.87",
            "585.87",
            "585.87",
            "585.87",
            "585.87",
            "585.87",
            "585.87",
            "585.87",
            "585.87",
            "585.87",
            "585.87",
            "585.87"
           ],
           "type": "bar",
           "x": [
            "00.502026",
            "00.610600",
            "00.610751",
            "00.701389",
            "00.763060",
            "00.833761",
            "00.887489",
            "00.887549",
            "00.911978",
            "00.918221",
            "01.009855",
            "01.009877",
            "01.011353",
            "01.014980",
            "01.015081",
            "01.015180",
            "01.015781",
            "01.016169",
            "01.031807",
            "01.043833"
           ],
           "y": [
            18,
            18,
            59,
            100,
            100,
            100,
            100,
            100,
            100,
            100,
            100,
            100,
            100,
            100,
            100,
            100,
            100,
            100,
            100,
            100
           ]
          },
          {
           "marker": {
            "color": "blue",
            "size": [
             0,
             23.02585092994046,
             16.29048269010741,
             14.978661367769954
            ]
           },
           "mode": "markers",
           "name": "Executions",
           "text": [
            "Shares: 1.0",
            "Shares: 100.0",
            "Shares: 26.0",
            "Shares: 20.0"
           ],
           "type": "scatter",
           "x": [
            "00.763060",
            "01.011353",
            "01.014980",
            "01.015081"
           ],
           "y": [
            585.7,
            585.74,
            585.7,
            585.69
           ]
          }
         ],
         "name": "01.043833"
        }
       ],
       "layout": {
        "annotations": [
         {
          "font": {
           "size": 16
          },
          "showarrow": false,
          "text": "Top of Book Price",
          "x": 0.5,
          "xanchor": "center",
          "xref": "paper",
          "y": 1,
          "yanchor": "bottom",
          "yref": "paper"
         },
         {
          "font": {
           "size": 16
          },
          "showarrow": false,
          "text": "Top of Book Volume",
          "x": 0.5,
          "xanchor": "center",
          "xref": "paper",
          "y": 0.38,
          "yanchor": "bottom",
          "yref": "paper"
         }
        ],
        "barmode": "stack",
        "height": 722,
        "hovermode": "closest",
        "margin": {
         "b": 75,
         "l": 50,
         "r": 50,
         "t": 50
        },
        "sliders": [
         {
          "active": 0,
          "currentvalue": {
           "prefix": "Time:"
          },
          "len": 0.9,
          "pad": {
           "b": 0,
           "t": 120
          },
          "steps": [
           {
            "args": [
             [
              "00.502026"
             ],
             {
              "frame": {
               "duration": 0,
               "redraw": false
              },
              "mode": "immediate",
              "transition": {
               "duration": 0
              }
             }
            ],
            "label": "00.502026",
            "method": "animate"
           },
           {
            "args": [
             [
              "00.610600"
             ],
             {
              "frame": {
               "duration": 0,
               "redraw": false
              },
              "mode": "immediate",
              "transition": {
               "duration": 0
              }
             }
            ],
            "label": "00.610600",
            "method": "animate"
           },
           {
            "args": [
             [
              "00.610751"
             ],
             {
              "frame": {
               "duration": 0,
               "redraw": false
              },
              "mode": "immediate",
              "transition": {
               "duration": 0
              }
             }
            ],
            "label": "00.610751",
            "method": "animate"
           },
           {
            "args": [
             [
              "00.701389"
             ],
             {
              "frame": {
               "duration": 0,
               "redraw": false
              },
              "mode": "immediate",
              "transition": {
               "duration": 0
              }
             }
            ],
            "label": "00.701389",
            "method": "animate"
           },
           {
            "args": [
             [
              "00.763060"
             ],
             {
              "frame": {
               "duration": 0,
               "redraw": false
              },
              "mode": "immediate",
              "transition": {
               "duration": 0
              }
             }
            ],
            "label": "00.763060",
            "method": "animate"
           },
           {
            "args": [
             [
              "00.833761"
             ],
             {
              "frame": {
               "duration": 0,
               "redraw": false
              },
              "mode": "immediate",
              "transition": {
               "duration": 0
              }
             }
            ],
            "label": "00.833761",
            "method": "animate"
           },
           {
            "args": [
             [
              "00.887489"
             ],
             {
              "frame": {
               "duration": 0,
               "redraw": false
              },
              "mode": "immediate",
              "transition": {
               "duration": 0
              }
             }
            ],
            "label": "00.887489",
            "method": "animate"
           },
           {
            "args": [
             [
              "00.887549"
             ],
             {
              "frame": {
               "duration": 0,
               "redraw": false
              },
              "mode": "immediate",
              "transition": {
               "duration": 0
              }
             }
            ],
            "label": "00.887549",
            "method": "animate"
           },
           {
            "args": [
             [
              "00.911978"
             ],
             {
              "frame": {
               "duration": 0,
               "redraw": false
              },
              "mode": "immediate",
              "transition": {
               "duration": 0
              }
             }
            ],
            "label": "00.911978",
            "method": "animate"
           },
           {
            "args": [
             [
              "00.918221"
             ],
             {
              "frame": {
               "duration": 0,
               "redraw": false
              },
              "mode": "immediate",
              "transition": {
               "duration": 0
              }
             }
            ],
            "label": "00.918221",
            "method": "animate"
           },
           {
            "args": [
             [
              "01.009855"
             ],
             {
              "frame": {
               "duration": 0,
               "redraw": false
              },
              "mode": "immediate",
              "transition": {
               "duration": 0
              }
             }
            ],
            "label": "01.009855",
            "method": "animate"
           },
           {
            "args": [
             [
              "01.009877"
             ],
             {
              "frame": {
               "duration": 0,
               "redraw": false
              },
              "mode": "immediate",
              "transition": {
               "duration": 0
              }
             }
            ],
            "label": "01.009877",
            "method": "animate"
           },
           {
            "args": [
             [
              "01.011353"
             ],
             {
              "frame": {
               "duration": 0,
               "redraw": false
              },
              "mode": "immediate",
              "transition": {
               "duration": 0
              }
             }
            ],
            "label": "01.011353",
            "method": "animate"
           },
           {
            "args": [
             [
              "01.014980"
             ],
             {
              "frame": {
               "duration": 0,
               "redraw": false
              },
              "mode": "immediate",
              "transition": {
               "duration": 0
              }
             }
            ],
            "label": "01.014980",
            "method": "animate"
           },
           {
            "args": [
             [
              "01.015081"
             ],
             {
              "frame": {
               "duration": 0,
               "redraw": false
              },
              "mode": "immediate",
              "transition": {
               "duration": 0
              }
             }
            ],
            "label": "01.015081",
            "method": "animate"
           },
           {
            "args": [
             [
              "01.015180"
             ],
             {
              "frame": {
               "duration": 0,
               "redraw": false
              },
              "mode": "immediate",
              "transition": {
               "duration": 0
              }
             }
            ],
            "label": "01.015180",
            "method": "animate"
           },
           {
            "args": [
             [
              "01.015781"
             ],
             {
              "frame": {
               "duration": 0,
               "redraw": false
              },
              "mode": "immediate",
              "transition": {
               "duration": 0
              }
             }
            ],
            "label": "01.015781",
            "method": "animate"
           },
           {
            "args": [
             [
              "01.016169"
             ],
             {
              "frame": {
               "duration": 0,
               "redraw": false
              },
              "mode": "immediate",
              "transition": {
               "duration": 0
              }
             }
            ],
            "label": "01.016169",
            "method": "animate"
           },
           {
            "args": [
             [
              "01.031807"
             ],
             {
              "frame": {
               "duration": 0,
               "redraw": false
              },
              "mode": "immediate",
              "transition": {
               "duration": 0
              }
             }
            ],
            "label": "01.031807",
            "method": "animate"
           },
           {
            "args": [
             [
              "01.043833"
             ],
             {
              "frame": {
               "duration": 0,
               "redraw": false
              },
              "mode": "immediate",
              "transition": {
               "duration": 0
              }
             }
            ],
            "label": "01.043833",
            "method": "animate"
           }
          ],
          "x": 0.05,
          "xanchor": "left",
          "y": 0
         }
        ],
        "template": {
         "data": {
          "bar": [
           {
            "error_x": {
             "color": "#2a3f5f"
            },
            "error_y": {
             "color": "#2a3f5f"
            },
            "marker": {
             "line": {
              "color": "#E5ECF6",
              "width": 0.5
             },
             "pattern": {
              "fillmode": "overlay",
              "size": 10,
              "solidity": 0.2
             }
            },
            "type": "bar"
           }
          ],
          "barpolar": [
           {
            "marker": {
             "line": {
              "color": "#E5ECF6",
              "width": 0.5
             },
             "pattern": {
              "fillmode": "overlay",
              "size": 10,
              "solidity": 0.2
             }
            },
            "type": "barpolar"
           }
          ],
          "carpet": [
           {
            "aaxis": {
             "endlinecolor": "#2a3f5f",
             "gridcolor": "white",
             "linecolor": "white",
             "minorgridcolor": "white",
             "startlinecolor": "#2a3f5f"
            },
            "baxis": {
             "endlinecolor": "#2a3f5f",
             "gridcolor": "white",
             "linecolor": "white",
             "minorgridcolor": "white",
             "startlinecolor": "#2a3f5f"
            },
            "type": "carpet"
           }
          ],
          "choropleth": [
           {
            "colorbar": {
             "outlinewidth": 0,
             "ticks": ""
            },
            "type": "choropleth"
           }
          ],
          "contour": [
           {
            "colorbar": {
             "outlinewidth": 0,
             "ticks": ""
            },
            "colorscale": [
             [
              0,
              "#0d0887"
             ],
             [
              0.1111111111111111,
              "#46039f"
             ],
             [
              0.2222222222222222,
              "#7201a8"
             ],
             [
              0.3333333333333333,
              "#9c179e"
             ],
             [
              0.4444444444444444,
              "#bd3786"
             ],
             [
              0.5555555555555556,
              "#d8576b"
             ],
             [
              0.6666666666666666,
              "#ed7953"
             ],
             [
              0.7777777777777778,
              "#fb9f3a"
             ],
             [
              0.8888888888888888,
              "#fdca26"
             ],
             [
              1,
              "#f0f921"
             ]
            ],
            "type": "contour"
           }
          ],
          "contourcarpet": [
           {
            "colorbar": {
             "outlinewidth": 0,
             "ticks": ""
            },
            "type": "contourcarpet"
           }
          ],
          "heatmap": [
           {
            "colorbar": {
             "outlinewidth": 0,
             "ticks": ""
            },
            "colorscale": [
             [
              0,
              "#0d0887"
             ],
             [
              0.1111111111111111,
              "#46039f"
             ],
             [
              0.2222222222222222,
              "#7201a8"
             ],
             [
              0.3333333333333333,
              "#9c179e"
             ],
             [
              0.4444444444444444,
              "#bd3786"
             ],
             [
              0.5555555555555556,
              "#d8576b"
             ],
             [
              0.6666666666666666,
              "#ed7953"
             ],
             [
              0.7777777777777778,
              "#fb9f3a"
             ],
             [
              0.8888888888888888,
              "#fdca26"
             ],
             [
              1,
              "#f0f921"
             ]
            ],
            "type": "heatmap"
           }
          ],
          "heatmapgl": [
           {
            "colorbar": {
             "outlinewidth": 0,
             "ticks": ""
            },
            "colorscale": [
             [
              0,
              "#0d0887"
             ],
             [
              0.1111111111111111,
              "#46039f"
             ],
             [
              0.2222222222222222,
              "#7201a8"
             ],
             [
              0.3333333333333333,
              "#9c179e"
             ],
             [
              0.4444444444444444,
              "#bd3786"
             ],
             [
              0.5555555555555556,
              "#d8576b"
             ],
             [
              0.6666666666666666,
              "#ed7953"
             ],
             [
              0.7777777777777778,
              "#fb9f3a"
             ],
             [
              0.8888888888888888,
              "#fdca26"
             ],
             [
              1,
              "#f0f921"
             ]
            ],
            "type": "heatmapgl"
           }
          ],
          "histogram": [
           {
            "marker": {
             "pattern": {
              "fillmode": "overlay",
              "size": 10,
              "solidity": 0.2
             }
            },
            "type": "histogram"
           }
          ],
          "histogram2d": [
           {
            "colorbar": {
             "outlinewidth": 0,
             "ticks": ""
            },
            "colorscale": [
             [
              0,
              "#0d0887"
             ],
             [
              0.1111111111111111,
              "#46039f"
             ],
             [
              0.2222222222222222,
              "#7201a8"
             ],
             [
              0.3333333333333333,
              "#9c179e"
             ],
             [
              0.4444444444444444,
              "#bd3786"
             ],
             [
              0.5555555555555556,
              "#d8576b"
             ],
             [
              0.6666666666666666,
              "#ed7953"
             ],
             [
              0.7777777777777778,
              "#fb9f3a"
             ],
             [
              0.8888888888888888,
              "#fdca26"
             ],
             [
              1,
              "#f0f921"
             ]
            ],
            "type": "histogram2d"
           }
          ],
          "histogram2dcontour": [
           {
            "colorbar": {
             "outlinewidth": 0,
             "ticks": ""
            },
            "colorscale": [
             [
              0,
              "#0d0887"
             ],
             [
              0.1111111111111111,
              "#46039f"
             ],
             [
              0.2222222222222222,
              "#7201a8"
             ],
             [
              0.3333333333333333,
              "#9c179e"
             ],
             [
              0.4444444444444444,
              "#bd3786"
             ],
             [
              0.5555555555555556,
              "#d8576b"
             ],
             [
              0.6666666666666666,
              "#ed7953"
             ],
             [
              0.7777777777777778,
              "#fb9f3a"
             ],
             [
              0.8888888888888888,
              "#fdca26"
             ],
             [
              1,
              "#f0f921"
             ]
            ],
            "type": "histogram2dcontour"
           }
          ],
          "mesh3d": [
           {
            "colorbar": {
             "outlinewidth": 0,
             "ticks": ""
            },
            "type": "mesh3d"
           }
          ],
          "parcoords": [
           {
            "line": {
             "colorbar": {
              "outlinewidth": 0,
              "ticks": ""
             }
            },
            "type": "parcoords"
           }
          ],
          "pie": [
           {
            "automargin": true,
            "type": "pie"
           }
          ],
          "scatter": [
           {
            "fillpattern": {
             "fillmode": "overlay",
             "size": 10,
             "solidity": 0.2
            },
            "type": "scatter"
           }
          ],
          "scatter3d": [
           {
            "line": {
             "colorbar": {
              "outlinewidth": 0,
              "ticks": ""
             }
            },
            "marker": {
             "colorbar": {
              "outlinewidth": 0,
              "ticks": ""
             }
            },
            "type": "scatter3d"
           }
          ],
          "scattercarpet": [
           {
            "marker": {
             "colorbar": {
              "outlinewidth": 0,
              "ticks": ""
             }
            },
            "type": "scattercarpet"
           }
          ],
          "scattergeo": [
           {
            "marker": {
             "colorbar": {
              "outlinewidth": 0,
              "ticks": ""
             }
            },
            "type": "scattergeo"
           }
          ],
          "scattergl": [
           {
            "marker": {
             "colorbar": {
              "outlinewidth": 0,
              "ticks": ""
             }
            },
            "type": "scattergl"
           }
          ],
          "scattermapbox": [
           {
            "marker": {
             "colorbar": {
              "outlinewidth": 0,
              "ticks": ""
             }
            },
            "type": "scattermapbox"
           }
          ],
          "scatterpolar": [
           {
            "marker": {
             "colorbar": {
              "outlinewidth": 0,
              "ticks": ""
             }
            },
            "type": "scatterpolar"
           }
          ],
          "scatterpolargl": [
           {
            "marker": {
             "colorbar": {
              "outlinewidth": 0,
              "ticks": ""
             }
            },
            "type": "scatterpolargl"
           }
          ],
          "scatterternary": [
           {
            "marker": {
             "colorbar": {
              "outlinewidth": 0,
              "ticks": ""
             }
            },
            "type": "scatterternary"
           }
          ],
          "surface": [
           {
            "colorbar": {
             "outlinewidth": 0,
             "ticks": ""
            },
            "colorscale": [
             [
              0,
              "#0d0887"
             ],
             [
              0.1111111111111111,
              "#46039f"
             ],
             [
              0.2222222222222222,
              "#7201a8"
             ],
             [
              0.3333333333333333,
              "#9c179e"
             ],
             [
              0.4444444444444444,
              "#bd3786"
             ],
             [
              0.5555555555555556,
              "#d8576b"
             ],
             [
              0.6666666666666666,
              "#ed7953"
             ],
             [
              0.7777777777777778,
              "#fb9f3a"
             ],
             [
              0.8888888888888888,
              "#fdca26"
             ],
             [
              1,
              "#f0f921"
             ]
            ],
            "type": "surface"
           }
          ],
          "table": [
           {
            "cells": {
             "fill": {
              "color": "#EBF0F8"
             },
             "line": {
              "color": "white"
             }
            },
            "header": {
             "fill": {
              "color": "#C8D4E3"
             },
             "line": {
              "color": "white"
             }
            },
            "type": "table"
           }
          ]
         },
         "layout": {
          "annotationdefaults": {
           "arrowcolor": "#2a3f5f",
           "arrowhead": 0,
           "arrowwidth": 1
          },
          "autotypenumbers": "strict",
          "coloraxis": {
           "colorbar": {
            "outlinewidth": 0,
            "ticks": ""
           }
          },
          "colorscale": {
           "diverging": [
            [
             0,
             "#8e0152"
            ],
            [
             0.1,
             "#c51b7d"
            ],
            [
             0.2,
             "#de77ae"
            ],
            [
             0.3,
             "#f1b6da"
            ],
            [
             0.4,
             "#fde0ef"
            ],
            [
             0.5,
             "#f7f7f7"
            ],
            [
             0.6,
             "#e6f5d0"
            ],
            [
             0.7,
             "#b8e186"
            ],
            [
             0.8,
             "#7fbc41"
            ],
            [
             0.9,
             "#4d9221"
            ],
            [
             1,
             "#276419"
            ]
           ],
           "sequential": [
            [
             0,
             "#0d0887"
            ],
            [
             0.1111111111111111,
             "#46039f"
            ],
            [
             0.2222222222222222,
             "#7201a8"
            ],
            [
             0.3333333333333333,
             "#9c179e"
            ],
            [
             0.4444444444444444,
             "#bd3786"
            ],
            [
             0.5555555555555556,
             "#d8576b"
            ],
            [
             0.6666666666666666,
             "#ed7953"
            ],
            [
             0.7777777777777778,
             "#fb9f3a"
            ],
            [
             0.8888888888888888,
             "#fdca26"
            ],
            [
             1,
             "#f0f921"
            ]
           ],
           "sequentialminus": [
            [
             0,
             "#0d0887"
            ],
            [
             0.1111111111111111,
             "#46039f"
            ],
            [
             0.2222222222222222,
             "#7201a8"
            ],
            [
             0.3333333333333333,
             "#9c179e"
            ],
            [
             0.4444444444444444,
             "#bd3786"
            ],
            [
             0.5555555555555556,
             "#d8576b"
            ],
            [
             0.6666666666666666,
             "#ed7953"
            ],
            [
             0.7777777777777778,
             "#fb9f3a"
            ],
            [
             0.8888888888888888,
             "#fdca26"
            ],
            [
             1,
             "#f0f921"
            ]
           ]
          },
          "colorway": [
           "#636efa",
           "#EF553B",
           "#00cc96",
           "#ab63fa",
           "#FFA15A",
           "#19d3f3",
           "#FF6692",
           "#B6E880",
           "#FF97FF",
           "#FECB52"
          ],
          "font": {
           "color": "#2a3f5f"
          },
          "geo": {
           "bgcolor": "white",
           "lakecolor": "white",
           "landcolor": "#E5ECF6",
           "showlakes": true,
           "showland": true,
           "subunitcolor": "white"
          },
          "hoverlabel": {
           "align": "left"
          },
          "hovermode": "closest",
          "mapbox": {
           "style": "light"
          },
          "paper_bgcolor": "white",
          "plot_bgcolor": "#E5ECF6",
          "polar": {
           "angularaxis": {
            "gridcolor": "white",
            "linecolor": "white",
            "ticks": ""
           },
           "bgcolor": "#E5ECF6",
           "radialaxis": {
            "gridcolor": "white",
            "linecolor": "white",
            "ticks": ""
           }
          },
          "scene": {
           "xaxis": {
            "backgroundcolor": "#E5ECF6",
            "gridcolor": "white",
            "gridwidth": 2,
            "linecolor": "white",
            "showbackground": true,
            "ticks": "",
            "zerolinecolor": "white"
           },
           "yaxis": {
            "backgroundcolor": "#E5ECF6",
            "gridcolor": "white",
            "gridwidth": 2,
            "linecolor": "white",
            "showbackground": true,
            "ticks": "",
            "zerolinecolor": "white"
           },
           "zaxis": {
            "backgroundcolor": "#E5ECF6",
            "gridcolor": "white",
            "gridwidth": 2,
            "linecolor": "white",
            "showbackground": true,
            "ticks": "",
            "zerolinecolor": "white"
           }
          },
          "shapedefaults": {
           "line": {
            "color": "#2a3f5f"
           }
          },
          "ternary": {
           "aaxis": {
            "gridcolor": "white",
            "linecolor": "white",
            "ticks": ""
           },
           "baxis": {
            "gridcolor": "white",
            "linecolor": "white",
            "ticks": ""
           },
           "bgcolor": "#E5ECF6",
           "caxis": {
            "gridcolor": "white",
            "linecolor": "white",
            "ticks": ""
           }
          },
          "title": {
           "x": 0.05
          },
          "xaxis": {
           "automargin": true,
           "gridcolor": "white",
           "linecolor": "white",
           "ticks": "",
           "title": {
            "standoff": 15
           },
           "zerolinecolor": "white",
           "zerolinewidth": 2
          },
          "yaxis": {
           "automargin": true,
           "gridcolor": "white",
           "linecolor": "white",
           "ticks": "",
           "title": {
            "standoff": 15
           },
           "zerolinecolor": "white",
           "zerolinewidth": 2
          }
         }
        },
        "updatemenus": [
         {
          "buttons": [
           {
            "args": [
             null,
             {
              "frame": {
               "duration": 0,
               "redraw": false
              },
              "fromcurrent": true,
              "transition": {
               "duration": 0,
               "easing": "quadratic-in-out"
              }
             }
            ],
            "label": "Play",
            "method": "animate"
           },
           {
            "args": [
             [
              null
             ],
             {
              "frame": {
               "duration": 0,
               "redraw": false
              },
              "mode": "immediate",
              "transition": {
               "duration": 0
              }
             }
            ],
            "label": "Pause",
            "method": "animate"
           }
          ]
         }
        ],
        "width": 1440,
        "xaxis": {
         "anchor": "y",
         "autorange": true,
         "domain": [
          0,
          1
         ],
         "dtick": "250ms",
         "matches": "x2",
         "showticklabels": false,
         "tickformat": "%S.%.3f",
         "tickmode": "linear"
        },
        "xaxis2": {
         "anchor": "y2",
         "domain": [
          0,
          1
         ],
         "title": {
          "text": "Time"
         }
        },
        "yaxis": {
         "anchor": "x",
         "domain": [
          0.43,
          1
         ],
         "title": {
          "text": "AAPL Price"
         }
        },
        "yaxis2": {
         "anchor": "x2",
         "domain": [
          0,
          0.38
         ],
         "range": [
          0,
          250
         ],
         "title": {
          "text": "Shares"
         }
        }
       }
      }
     },
     "metadata": {},
     "output_type": "display_data"
    }
   ],
   "source": [
    "# present data\n",
    "my_fig_dict[\"layout\"][\"sliders\"] = [my_sliders_dict]\n",
    "\n",
    "# feed all data into plotly\n",
    "fig = go.Figure(my_fig_dict).set_subplots(2, 1, subplot_titles=('Top of Book Price', 'Top of Book Volume'), vertical_spacing=0.05, row_heights=[0.6, 0.4], shared_xaxes=True)\n",
    "# set x and y for volume bar chart\n",
    "fig.data[2].xaxis = \"x2\"\n",
    "fig.data[2].yaxis = \"y2\"\n",
    "fig.data[3].xaxis = \"x2\"\n",
    "fig.data[3].yaxis = \"y2\"\n",
    "fig.update_layout(yaxis2_title='Shares', xaxis2_title='Time')\n",
    "fig.update_layout(width=1440, height=722, margin=dict(l=50, r=50, b=75, t=50), yaxis2_range=[0,250])\n",
    "fig.show()\n",
    "#fig.write_html(\"../data/html/AAPL_L1_Data.html\")\n"
   ]
  },
  {
   "cell_type": "code",
   "execution_count": 12,
   "metadata": {},
   "outputs": [],
   "source": [
    "# write to gif \n",
    "import io\n",
    "import PIL\n",
    "frames = []\n",
    "for s, fr in enumerate(fig.frames):\n",
    "    # set main traces to appropriate traces within plotly frame\n",
    "    fig.update(data=fr.data)\n",
    "    # move slider to correct place\n",
    "    fig.layout.sliders[0].update(active=s)\n",
    "    # generate image of current state\n",
    "    frames.append(PIL.Image.open(io.BytesIO(fig.to_image(format=\"png\"))))\n",
    "\n",
    "frames[0].save(\n",
    "        \"../data/gif/bid_ask_vol.gif\",\n",
    "        save_all=True,\n",
    "        append_images=frames[1:],\n",
    "        optimize=True,\n",
    "        duration=500,\n",
    "        loop=0,\n",
    "    )"
   ]
  },
  {
   "attachments": {},
   "cell_type": "markdown",
   "metadata": {},
   "source": [
    "!['bid_ask_vol.gif'](../data/gif/bid_ask_vol.gif)"
   ]
  },
  {
   "attachments": {},
   "cell_type": "markdown",
   "metadata": {},
   "source": []
  }
 ],
 "metadata": {
  "kernelspec": {
   "display_name": "Python 3",
   "language": "python",
   "name": "python3"
  },
  "language_info": {
   "codemirror_mode": {
    "name": "ipython",
    "version": 3
   },
   "file_extension": ".py",
   "mimetype": "text/x-python",
   "name": "python",
   "nbconvert_exporter": "python",
   "pygments_lexer": "ipython3",
   "version": "3.8.5"
  }
 },
 "nbformat": 4,
 "nbformat_minor": 4
}
